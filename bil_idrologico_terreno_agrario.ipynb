{
 "cells": [
  {
   "cell_type": "markdown",
   "metadata": {
    "extensions": {
     "jupyter_dashboards": {
      "version": 1,
      "views": {
       "grid_default": {
        "col": 0,
        "height": 4,
        "hidden": false,
        "row": 0,
        "width": 4
       },
       "report_default": {
        "hidden": false
       }
      }
     }
    }
   },
   "source": [
    "# Bilancio idrologico di un terreno agrario"
   ]
  },
  {
   "cell_type": "code",
   "execution_count": 1,
   "metadata": {
    "extensions": {
     "jupyter_dashboards": {
      "version": 1,
      "views": {
       "grid_default": {
        "col": 4,
        "height": 28,
        "hidden": false,
        "row": 0,
        "width": 4
       },
       "report_default": {
        "hidden": false
       }
      }
     }
    }
   },
   "outputs": [
    {
     "data": {
      "text/html": [
       "<img src=\"data:image/jpeg;base64,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\"/>"
      ],
      "text/plain": [
       "<IPython.core.display.Image object>"
      ]
     },
     "metadata": {},
     "output_type": "display_data"
    },
    {
     "data": {
      "text/html": [
       "<img src=\"data:image/jpeg;base64,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\"/>"
      ],
      "text/plain": [
       "<IPython.core.display.Image object>"
      ]
     },
     "metadata": {},
     "output_type": "display_data"
    },
    {
     "data": {
      "text/html": [
       "<img src=\"https://encrypted-tbn0.gstatic.com/images?q=tbn:ANd9GcQy4aPf9tepSUptyyDKY9pm-52g5ky6kY_U31mlp3ROd0N7vDy9\"/>"
      ],
      "text/plain": [
       "<IPython.core.display.Image object>"
      ]
     },
     "metadata": {},
     "output_type": "display_data"
    },
    {
     "data": {
      "text/html": [
       "<img src=\"https://encrypted-tbn0.gstatic.com/images?q=tbn:ANd9GcSJncVqX4XjzjCEl5jYtOtleCH0AnKtrSbve5Sbk1jw3bUDW_dJ\"/>"
      ],
      "text/plain": [
       "<IPython.core.display.Image object>"
      ]
     },
     "metadata": {},
     "output_type": "display_data"
    }
   ],
   "source": [
    "from IPython.display import Image\n",
    "from IPython.core.display import HTML \n",
    "I1 = Image(url= \"data:image/jpeg;base64,/9j/4AAQSkZJRgABAQAAAQABAAD/2wCEAAkGBxITEhUTEhMWFRUWFxUYFhgYFxcZGBcVFRUWFxUXFxUYHSggGBolHRUVITEhJSkrLi4uFx8zODMtNygtLisBCgoKDg0OFRAQGSsdFx0rLS0tKy0tLS0rLSstLS0tKy0tKystLTctKy0tLS03NzctLSsrKy03LSstKzcrKystLf/AABEIAMIBAwMBIgACEQEDEQH/xAAbAAACAwEBAQAAAAAAAAAAAAACAwABBAUHBv/EAEIQAAEDAgMFBQUFBgUEAwAAAAEAAhEDITFBUQQSYXGBIpGhsdEFE8Hh8BQyUlOSBhVCcpPxIzNDc4NiY6KyB4LS/8QAGgEBAQEBAAMAAAAAAAAAAAAAAQACAwQFBv/EACYRAQEAAQMEAgMAAwEAAAAAAAABEQISUQMTIZExUhRB0QRx4UL/2gAMAwEAAhEDEQA/APoq+w0sqVOODG+iV9hpZ0qf6G+i075FkBXftaeGr/kdX7X3S27DQm9Kn+hvojGw7P8Aks/Q30VhECrtaeF+T1ftfdVR9m0M6LP0NTvsGzfk05/kb6IPeFUs9rTw1+T1PtfdD9mpDCjS/ps9EA2KkT/k0/0N9Fpa5XvLXb08D8jqfa+6Nns2hH+VS/ps9EraNho5Uacf7bfRWXlCXLPa08H8nqfa+7/WY7BSP+jT/Q30R0/ZlL8ln6G+i10RxWtrosIKzdGmfpqdfqX/ANX3XNp+zaZwoU/0N9Fto+xKYd2qNID/AG2X8FpFbc0xCqpte9nzWbp08LvdT7X3WbaPZ2zNk+6pHT/CYEuhs2zxehSJ/wBtnoifSk4pbNndNimaNPB73U+19qr7Ls/5NL+mz0Svs1D8ml/TZ6Lo0/ZgJEuKS7YO0YwGasaOF3ur9r7v9YTQo5UaX9NnohOxUj/o0/0N9F0n7G3IrZs9KmB90lW3Twu91ftfd/riN9k0vyqf6G+i17L7Apk3pU4/kb6LqgNzajFQDKUYnAvW6n2vu/1jH7OUMTTpn/jb6K2+w9n/ACKf6G+i1NqO5DRG5xxhE0zhd/qfa+/+uaz2NRLv8mlH+2z0TqnsnZwD/gUTH/bZ6KF5Qkrp25f0xf8AI6n2vukfu3ZwZNGkeHu2eiqpsGzn/QpD/jZ6JyhWu3p4Z/I6n2vusf7tofk0/wBDfRWPZlD8ml+hvotQCsJ2aeB+R1ftfdZf3bQ/Jpf02+ir920Pyaf6G+i1qQrZp4H5HV+191nHsnZ/yqX6G+itPhWjbp4X5HV+191yoUhHCvdXTLGAAKQjDVN1GTguEQCP3asNVuWAwoUcKiFZWAKkwM4qbnFW44C0J7KxCXuoVnOT8NBra3Ql+gSwFZaiyKaqZv8AJMZUCzQjAWcQ5aRXCt20cCktQkoxDlpbtCaNoWNqawpwD94qwRmkggG60Mog6AIQXOIVta52ElMds5GBkKU3HWEyjBY2V5MQj+wuzgeKlZ7wcVGEuPadEKzVhW0bLuxBmUhzCtZcDIn7pAmMZCW8cQmUYKNIjFDCaQq3bJyMFAKQjVgI3DBcKI4Kityw5Uqwse2bcyk3ecbDGLnnGiJm3UiA4VGwRI7Q8lnfHTDXCuFnFZpBIcCBMmbCMZKjK7DcPBGshOU1ObCtrSUjeznrwUNYD+IDqjKNchS98ajvUdUGo705WBypKSaoGLgOqjq7Bi4d4VuMh8qLM7aWCn7wu3WR94ggXwvEKtm2pr2ue1zTTBA3gbExcTEI3Q7K2KpWA+1tn/OZ+oT3Ih7ToRPvWxrMi+GCN8Wyt8KpWdu0tLN8OG5qk1vaVJokvHS5PBG6crbW8FG0LiN/aKjxwkSI6E5FI2n9raDRad6Roeat8WyvpQiBXwTv21qFwgDdtPZvPATELo1fblW0VIBAxDcc8GrN6sjc6OqvrQnMXw20/tdWaC2m0EyIe6DbMboAnnC5G1/tTt7oaHEAG+4wAnS6brjPb1PUi4qBxK+Do+365Y0urlpjtD3YmR0WSt+020B2611Z9rkUwBOosidXSr07HohqCd0uE6TfuVVtopsEve1o1JAHivMqvtSs4lzqddzoF4ZhnfELLWqPcZ9xXMxg8C38sQi9WGaHp/sz2nRqvqMpVA5zTLgJwsJFvJbBUbvbocCcYkTHJeO1jXZVa6iKtMbu7IMm5kyR9WQ0G1wXu36pc6QSN8GDlZXdF0Yr2ctQ7q8gp1q4hu9WA/8AvEqbTtO0Oiaj7YbzXlXcZ2vVtu2+jRE1XtboJEnkM1z6n7WbE0EmtYCfuuvwwxXme68w53adEEllQyORSqmyb+O/H4RTcB5I304j0Fn/AMg7ERP+J+n5qLzlvslsYVR0f6KJ3svqj7Lp5uqH+Z4+DQr2b2bQp/dpzrJcbLpfZHatQmk38YJ4L1+by7fH6Kc0OmWA7xkyXXk80LdjBEBkRe04jmbppYz8SWS2cyrdeRnkdTZ3GxDojN1lTWvAgAwTN3OInXFAX8PFMG0Oiyt15OdKEP8Ay2mOB8yVe6440x3T8UPv3aiVPtTjmnN5W7SaZiC0fpB85RiswYt/8WfFqzOecZJSzxKs1b5w3fb2lu6bt/CQ0tthaOapntCm0Q0Bo0DLeBXPLAoaQlW5dytZ9pM/C0/8ccEJ9qNw3B0BHxWb3Y4K/djgrcr1Ka72kz8HggPtNs2pgniB6JZA0QgBU1DfTv3r/wBsdzfRUfaxx90O5v8A+UsNCqE5V1UX70fkxvcPRUfaVQ/wt7vmgChsncN95Q7bUOQHQeZQnbKuvgpvK5Csi6qr7TV/EVR2ip+M+KuVCUZG6h3nn+LzQ7zvxeaIuVFysrIQH/jhTdP5iL3ipzkbgr3Tvx+KE0T+LxVl6Hf4KuqhZo/9Xip9n4nvVF40CreCN1A/svEq0Irc1EZqy3XOZPP0RNbqgJyRVGwjLrgW8EJde2SW0o/d/wAR80jauVN5AGHNC7SJso7advBW1w4JTnAAcUO9wUttG45QrA+skoP7seqYDr048lLCpiVe/KB7LBLc3xEqODy+yX71Le7ryUAJw0lCN94gNUIICjgYnTRSxTZQpQcra/SEjA7qt7JU14g49MFRvcFWVhYIVGELidPlxQJyMGxmqJQNzI4IfeXj66qyjCUIcqdUEIS4fWiELeH0VC4apZifii3Yx6qC95WTglFg1CMRxUloSNVRIQglAwhhREOailh0HOAi9/AK5dNzjmUlkCTNsvRE2sSLQpvLTRYPr6wQvqAxpGnwSak7uNrSVbX4EgyfLC4S3GptQDDTulKL+GGXAQkudlFvNRhzccDA5c0LJtWoHCwH95SaVbXyQFzSIjA9I9ULTfzASsnuxOnmEe9Ixwv8lnZjJOeGd9FYAkSY4eqjlZebSI0THgSItnCp75hpuRgZFhmgMX1zz6KRpxOpuBa6H3N4mHWxwuOCBsEiezxN+5CTBkd0oS8JmLdZQi08s0LaokQbaccvgiLjjA6aSpZW0D05qxQFspSZvANhhJ14oGVTqoZagwG2SEUuPwQur2MHuN0G9OOahk73JmCe4oIAN9Tl5pTqpwF/AFC54diSMVRZhwpA+vqlVGjX+6U+obQfmhcZwMJZtGTiqcBkcFQqW+uSosb/ABOIx/h+assIDyuqdV+uajqTCLTOpw6JNWk7DGLwjIvg6DFseCjJ1+vVC6QMhb6CE1WiL9w7lM5MAznrz1RCn9SlNeDifnCTUqwQQRfumbAqqy17h0UWE+0P+kdw9VELLsGnwPhiFbql7iNSke/IJB+igc8xh38cAl0y3trNgzI0gWPolOqg3IwFtOCzlsi1gL44qjPhmFZWWwVxY6Wt5ygFQA2wMYrLRAvOUHuyhDXxkDU92NlLc1VdruBlIywKAV93MnTgkGoCMMZgcdUDKhuCM7KzBltoVjB3riIF7g5ckr3ki978skoSbzHO2GfmpaAR349/go7vBn2jtWMk2A4KnV+PLHu8UymWtBkTABytbX6wS6lMaHMzaPKyjlf2gnNX703biIxz+uCAxMEC95mOHVA6ie1Dvu48igbjQwQIdBxjyVtdY3nCfW6qAeEXx+pVnY5/ixt34eSlM1Rg4GBh5KNGU4fRWalTANzBEE6Eap9GC0lp044zmlW1CACJN46ZpjC3Az0WGs90wROhPA/NShtGWhHn4KXmNYz4a2tqo1uZOniubtO0u3rcflgOCM1SQ2G3wJ5YWnVMZza3OIOBEYctPoIW1gLExienouaPeS7HsxOl+GQy6K6mz1CWkuyjv17wi1YrovdaeWEWQOriBeZJBv4LPTp2ILom9uPorbQptwJPDLvWd0G3IhtjZMch0PDBANpc5wgmYw1PC9kJDAcDaYvnzVvrDEATOVstNbpamk2rTc5sTHr0WRuzvFrGDoM+afSf/CcMjxRGqXZaX+KMrCU6JGJsel1bqLTjM4oK9SD0ugY4kycOGIWsoZ2Kmb7qic0HSVEZJ9ao8fdEXzi5nVUyo6IMEzHAFPfSOJi18s7oGbSGlwtIAPU/RUwjG20x0kSc/wAKtrXfUGSbTOaDa9qa1gcMyI4w691k2vb4cCBILdbiCbYqwsVro0YeQ4gSI62OnBXVczibTYXk2WChto94HASC18XkzBEJLHENJJg2jgCSZPwUcV1gaJvERGtjyR1Xs3iBEQLjEHl4rhbFUe4kE5g5TfMHNa3bMd/emJaJtmLYWxVfCxY3bLtLTiRYi+Znglv2kXBFhE5Yk+i5Nem73kNMSBnJtN+dlsGykuDi5sGJFspnzTfB20dTaA3AyIB5gTPke9NG0AgE3Igjv9JWQbA0OAOkcoII8Qi2Wi1pu7Xl2T8x3rPz8LaGvXp7xJm0tGN405Qr2HaC5jnZEwRExeQL4IzUY7twO1Ji4181VPaWgFoED70AYxBPM4qp2h964E6ARxTDUqW3b4c8/VZftbiQ7IgDrxTHVoOOOQ0OCPMMiy2oCSQCbD46otnrlv3zmPiENW9xIJI5WWSrRde9xniNbrWcmR16rg62QvJ4iVjoVWnejFpcDxE+KzVhO7nIabE4jHyRU6bWzu5yfVanhr5jWdoaBIv3YqP2jQQYskNo9QQMORIx6LT2SMnfLki2OfwVvdkkiQ6x46nzRupvE4kERjccYTaREQjNQxIzMHuEEIrTPTpOMb2QySWR2rzeIwW4P7UnRLrtbMixxWMpmbTEAzyTXBt5Fj8Bip7u/PDDwVvFrp3ININ3NIiI+Ct0AyM0prYywvijeYxPgig1ziTgIwlGWN+FkDRjOHwSXEh2FjeRwQT3NE2c4K0smoNP7qlAY2ki0WJzsYnz4Ll+16dQVGlpc6fvcCc+QXWfu/ekT2ZbzPHqq2uuCA1uMX4fJdZcU7Cn7KTTbvW3ZjiZFuJMhIZSbfeGvmfkk7RtL2+7aSCBAzNzcE8ZCVtDqm85oPaaP/YXH/ktTS3pkxhqo1KTXta0GSWzBmBbXDHBOO0U5LZAgkQeBBAnwXJp7M9suxu2bRAIgm+g4J9XZgWugycRNpO/BbyILespujIswYK43mOEAbxMyMJwOWK0bfte4Jud426dIjks1LZ5cQ5sRTPKd7v0M8E7bKhdY3AthPX4dEatM8HV5kJLy+SMRboRNvJH714I0tw4R6Kn093dM33TPeCOQtzTmsJPCBbgBdZ8M5lgt6SIM45444KtoEiW3sDe15bbhh4Ia9MtGgnHEiMbdQqbXbBBdhzmxBPBHwBUntFjn5G5kXsmuGIJjlaJ0SH1TrYmB/fJIBl1rW6cFJrq7sXyxQiDhh5ToUprBME+kwZwylEWy6QY7InzjnKE1sMAzwVv+4BGfWDjGsLO2qMLak+HwT21Q0gYi9ycuQREADI5G2Rv5YK6je1e2HdCJxvlP16pVV4teclLIqzw1rT87IaLiBY+GqjmhzYg9ctSktfEZi2OYjNaB1PaSHX+aa4yBBhY9qyJOf8AYeKZRed0fWalk1zHRM6ec/BVv37uk8E5pmcktlPW86dVmzJgQGzMme/JA2Yuefd4FG2L3nKPgT0QtEWxFuc3t5owh1H3wzt81H1QRw18uStlQTGIjPDmoSBMwMOuqKYlKqDz+aKpWy15FZqj26Y3VMqieATgVtp1RAv5KLmPpvJlrgAcAorDOGrazBsN4RERrYgE6RhxR7VuxvSbDLrki2pzXS90lrYgYXJv8IKtgAdlBjDIm+a6bsumfBbn4ENh0ReJMY8zil1SN3dMTIGci0kdQn13NkTB7WMSYOJ5yhewbwwIIBiLwss5Jo1LnSI6ADPgnbJQYQGzIEm+jjM8LiVl3ADIOBEcpue8+CeXyL4gacT8k20eT6zQIzF7nhMDxVt3SZN8JPAHFY21Te83sMoOPknCbC/ejNpHXALTBgxBjPigbBguz1OoVVnQI8As5iI8O70VhRrJ3hEjOOuIWCps5DgTO7GEZk3PFMJIF1krU6rsOyNTiemS1onJw00KovFzlOCZV7Nxeb9TbHRK2fY3Bt5AGJz7skyRg26rVfhqo1GuHaA15qvd35wOMfRWZhOC0MDjnb6zWapShQE3GGHKRY+KCrSIdrJ3f5dPithaIO8RbxWMVZPoiUWj2eoTE6RkDMqOIw0OZUiYgZyE73Gp9OKgyOcTA7umPh5JNVrhI4T33PNbHtAEjv8ARYXVTMCb26EQtxNAdvNLTjBiB+GCLdyGlVEAHj3f3KDdIfvEXI6ARp0VmkZFiGgiMwTkiwNTngEY4d56JoqHG2GuCy7Q+wk5WOHNHs1S27It5IwRwQ3dPPDlfzV06BlxxEeORHeUp1aTEYSQeVoUNR0g6+CcIyC0SRN4J8kVSnvAX1I66oXTNojTjOeiKkQAWkHgePxWbF8ue93a3SY0kY8isx20gxBBBvOJOPxWzaKjp3mhsNkSRrAI+Cy7W0GZAIaJJkzHIYmy66NP6QvtzVFiomnA7FTo4R/6qLfY0h9Ayrr/ABXHRKNQA9m/PicU0RjMDu7gkGqZhjZ4/NcPE+DRmljfEgz0CZ7s3M2V02OxdCt7pVkxlfUM9lvU2CY1pOJnwCdGqBzgq01bIyVVJwB7kbCOiF+0AYeCJQT9nOZTGMaMxzSKm0DjPD1VbjYndv396rRloqNAEgg8SlsrciVez1hm0RpCdW2e29YcGwgZJd7wjdLoZnxRimG23onJShtEkNFzp81dQNDrCHZozRuFWIbAbCSagzJPDJEXNxMk8MSmMa04gjQeqaFGrvCA3rkiobOSUTJH1knurhojPpfmc0YQ3vawRIlYa7w4Yk8rDvSalZoP3ZchrOMdo7o0+QWoclukprCQ2BE6x5JVN02APX0WyhuDIvPHBNOSaNE43Peqq1wDBvHcEza9pcbHoAsZaBjKFlKlbesAmUTlElFRccgB5o5GErUlMG4E6RmroEA4WwTKbRzQuF7KwTGtxvjwmcEAfBtHZsRpmlveo0whG193Ea8CJm3wXJlwe4uBAzAwO7w0W6nbLGbcTA+Cz+0SS8E4QJBOeHdEdy6dP5AGU2RYgDSY8JUWd3s9puTjyUWvPIdYcU9r2gevokbhGQ63Q1Rqb8fRcPDeDH1tEsVgMTdZyDmTCGDkE4iPc/eVh0fNIh+iEB04TGZw7lYBlWvp8kmnc3JPKwT6ruzcg6CI+aVs9DeNyBzPkAoZaGgG0RyThQGAw+r2VP2U7vYcDGOUFBs+8ARJM4rOGMqNGTDT9cEO0VN0CnJOseuS2bGSDgl7RszLyXE5xYfNOmwA2GuGT7to4uImOqjNwkuJJ6I9jFM9mS0cRbxWOvtLQ8gduDrAWvlqujLIyZyxKujF90YZoNk2hzrhlNgGJj1xVO2iSQDPGMVzxyMUQsC55v8AwgY/JYPdkul0knJbHENF8UsVBlbjmtSxYEeziBykeap9ORvGGqMLj90dSEysyR2vkrJwxNMZlNa1xs2ysNGipxPJaOBHZC0y4yecoDSLiqdUOEyUVQuAtc+ATIsCLch3pVNwm6BonOStdChr4LXhqQTXE4ANb5+qQ9/HopVYZ4aJe+Ai4RjASrJvAS+0eChqEWbjqjwv9NGGJHmUupuaEniqY0AXxUa8mwEBMokpJqcArWkNCpa3w4qiVTFFF4z6zEC5E3FRREasmFzZC/BRRai06ZwFjBoO5aKTyBYkWVKJrlr0zPwBn13Ig4qKIddsx8Ca8zic81e+dThqoosxy1aZwzOvih92NB3KKLt+jNM4Mm0ZaK2K1Fx1LbOFOvirCiio3tnAg8xiUEqKKU0zhGHFC7NRRbiumcLYLhXUM4q1EmaZwUmgqKIV0zhRVNAUUUxiI8qmqKIre2YWrCiiv0Ns4Qq1FFk7Zw//2Q==\")\n",
    "I2 = Image(url= \"data:image/jpeg;base64,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\")\n",
    "I3 = Image(url= \"https://encrypted-tbn0.gstatic.com/images?q=tbn:ANd9GcQy4aPf9tepSUptyyDKY9pm-52g5ky6kY_U31mlp3ROd0N7vDy9\")\n",
    "I4 = Image(url= \"https://encrypted-tbn0.gstatic.com/images?q=tbn:ANd9GcSJncVqX4XjzjCEl5jYtOtleCH0AnKtrSbve5Sbk1jw3bUDW_dJ\")\n",
    "display(I1,I2, I3, I4)"
   ]
  },
  {
   "cell_type": "markdown",
   "metadata": {
    "extensions": {
     "jupyter_dashboards": {
      "version": 1,
      "views": {
       "grid_default": {
        "col": 8,
        "height": 4,
        "hidden": false,
        "row": 0,
        "width": 4
       },
       "report_default": {
        "hidden": false
       }
      }
     }
    }
   },
   "source": [
    "- esempio di un bilancio idrologico\n",
    "- a partire da dati idrometereologici mensili medi "
   ]
  },
  {
   "cell_type": "markdown",
   "metadata": {
    "extensions": {
     "jupyter_dashboards": {
      "version": 1,
      "views": {
       "grid_default": {
        "col": 0,
        "height": 4,
        "hidden": false,
        "row": 4,
        "width": 4
       },
       "report_default": {
        "hidden": false
       }
      }
     }
    }
   },
   "source": [
    "Dati idrometereologici della stazione pluviometrica di Parma"
   ]
  },
  {
   "cell_type": "code",
   "execution_count": 3,
   "metadata": {
    "extensions": {
     "jupyter_dashboards": {
      "version": 1,
      "views": {
       "grid_default": {
        "col": 8,
        "height": 13,
        "hidden": false,
        "row": 4,
        "width": 4
       },
       "report_default": {
        "hidden": false
       }
      }
     }
    },
    "scrolled": true
   },
   "outputs": [
    {
     "data": {
      "text/html": [
       "<div>\n",
       "<style scoped>\n",
       "    .dataframe tbody tr th:only-of-type {\n",
       "        vertical-align: middle;\n",
       "    }\n",
       "\n",
       "    .dataframe tbody tr th {\n",
       "        vertical-align: top;\n",
       "    }\n",
       "\n",
       "    .dataframe thead th {\n",
       "        text-align: right;\n",
       "    }\n",
       "</style>\n",
       "<table border=\"1\" class=\"dataframe\">\n",
       "  <thead>\n",
       "    <tr style=\"text-align: right;\">\n",
       "      <th></th>\n",
       "      <th>Unnamed: 0</th>\n",
       "      <th>temp</th>\n",
       "      <th>prec</th>\n",
       "    </tr>\n",
       "  </thead>\n",
       "  <tbody>\n",
       "    <tr>\n",
       "      <th>0</th>\n",
       "      <td>Gennaio</td>\n",
       "      <td>1.89</td>\n",
       "      <td>51.0</td>\n",
       "    </tr>\n",
       "    <tr>\n",
       "      <th>1</th>\n",
       "      <td>Febbraio</td>\n",
       "      <td>4.13</td>\n",
       "      <td>39.0</td>\n",
       "    </tr>\n",
       "    <tr>\n",
       "      <th>2</th>\n",
       "      <td>Marzo</td>\n",
       "      <td>9.52</td>\n",
       "      <td>78.0</td>\n",
       "    </tr>\n",
       "    <tr>\n",
       "      <th>3</th>\n",
       "      <td>Aprile</td>\n",
       "      <td>13.19</td>\n",
       "      <td>73.0</td>\n",
       "    </tr>\n",
       "    <tr>\n",
       "      <th>4</th>\n",
       "      <td>Maggio</td>\n",
       "      <td>17.58</td>\n",
       "      <td>63.0</td>\n",
       "    </tr>\n",
       "    <tr>\n",
       "      <th>5</th>\n",
       "      <td>Giugno</td>\n",
       "      <td>21.75</td>\n",
       "      <td>53.0</td>\n",
       "    </tr>\n",
       "    <tr>\n",
       "      <th>6</th>\n",
       "      <td>Luglio</td>\n",
       "      <td>25.08</td>\n",
       "      <td>32.0</td>\n",
       "    </tr>\n",
       "    <tr>\n",
       "      <th>7</th>\n",
       "      <td>Agosto</td>\n",
       "      <td>24.33</td>\n",
       "      <td>57.0</td>\n",
       "    </tr>\n",
       "    <tr>\n",
       "      <th>8</th>\n",
       "      <td>Settembre</td>\n",
       "      <td>20.70</td>\n",
       "      <td>50.0</td>\n",
       "    </tr>\n",
       "    <tr>\n",
       "      <th>9</th>\n",
       "      <td>Ottobre</td>\n",
       "      <td>14.38</td>\n",
       "      <td>112.0</td>\n",
       "    </tr>\n",
       "    <tr>\n",
       "      <th>10</th>\n",
       "      <td>Novembre</td>\n",
       "      <td>7.19</td>\n",
       "      <td>72.0</td>\n",
       "    </tr>\n",
       "    <tr>\n",
       "      <th>11</th>\n",
       "      <td>Dicembre</td>\n",
       "      <td>3.44</td>\n",
       "      <td>47.0</td>\n",
       "    </tr>\n",
       "  </tbody>\n",
       "</table>\n",
       "</div>"
      ],
      "text/plain": [
       "   Unnamed: 0   temp   prec\n",
       "0     Gennaio   1.89   51.0\n",
       "1    Febbraio   4.13   39.0\n",
       "2       Marzo   9.52   78.0\n",
       "3      Aprile  13.19   73.0\n",
       "4      Maggio  17.58   63.0\n",
       "5      Giugno  21.75   53.0\n",
       "6      Luglio  25.08   32.0\n",
       "7      Agosto  24.33   57.0\n",
       "8   Settembre  20.70   50.0\n",
       "9     Ottobre  14.38  112.0\n",
       "10   Novembre   7.19   72.0\n",
       "11   Dicembre   3.44   47.0"
      ]
     },
     "execution_count": 3,
     "metadata": {},
     "output_type": "execute_result"
    }
   ],
   "source": [
    "%matplotlib inline\n",
    "# dati idrometereologici della stazione termopluviometrica di Parma\n",
    "import pandas as pd\n",
    "df = pd.read_csv('C://Users//Nicola//Desktop/NOTEBOOK\\\\IDROLOGIA\\\\terreno-agrario\\\\DATI\\\\staz_pluv_parma.csv', sep=';')\n",
    "df"
   ]
  },
  {
   "cell_type": "code",
   "execution_count": 4,
   "metadata": {
    "extensions": {
     "jupyter_dashboards": {
      "version": 1,
      "views": {
       "grid_default": {
        "hidden": true
       },
       "report_default": {
        "hidden": true
       }
      }
     }
    }
   },
   "outputs": [],
   "source": [
    "import matplotlib.pyplot as plt\n",
    "tab1 = df.rename(columns={'Unnamed: 0':'mese'})\n",
    "tab1\n",
    "tab1.to_latex('tab1.tex')\n",
    "# exporting table to excel\n",
    "writer = pd.ExcelWriter('tab1.xlsx')\n",
    "tab1.to_excel(writer,'Sheet1')\n",
    "writer.save()"
   ]
  },
  {
   "cell_type": "markdown",
   "metadata": {
    "extensions": {
     "jupyter_dashboards": {
      "version": 1,
      "views": {
       "grid_default": {
        "col": 0,
        "height": 4,
        "hidden": false,
        "row": 8,
        "width": 4
       },
       "report_default": {
        "hidden": false
       }
      }
     }
    }
   },
   "source": [
    "- Ietogramma mensile delle precipitazioni"
   ]
  },
  {
   "cell_type": "code",
   "execution_count": 5,
   "metadata": {
    "extensions": {
     "jupyter_dashboards": {
      "version": 1,
      "views": {
       "grid_default": {
        "col": 0,
        "height": 11,
        "hidden": false,
        "row": 12,
        "width": 4
       },
       "report_default": {
        "hidden": false
       }
      }
     }
    }
   },
   "outputs": [
    {
     "data": {
      "image/png": "[encoded data removed]",
      "text/plain": [
       "<Figure size 432x288 with 1 Axes>"
      ]
     },
     "metadata": {},
     "output_type": "display_data"
    }
   ],
   "source": [
    "# costruzione dello ietogramma di pioggia\n",
    "ieto = tab1.plot(x='mese',y='prec',kind='bar', color='blue', grid=True,title='Ietogramma medio mensile')\n"
   ]
  },
  {
   "cell_type": "markdown",
   "metadata": {
    "extensions": {
     "jupyter_dashboards": {
      "version": 1,
      "views": {
       "grid_default": {
        "col": 8,
        "height": 4,
        "hidden": false,
        "row": 17,
        "width": 4
       },
       "report_default": {
        "hidden": false
       }
      }
     }
    }
   },
   "source": [
    "- coefficienti mensili del modello di Thornthwaite"
   ]
  },
  {
   "cell_type": "code",
   "execution_count": 7,
   "metadata": {
    "extensions": {
     "jupyter_dashboards": {
      "version": 1,
      "views": {
       "grid_default": {
        "col": 8,
        "height": 9,
        "hidden": false,
        "row": 21,
        "width": 4
       },
       "report_default": {
        "hidden": false
       }
      }
     }
    }
   },
   "outputs": [
    {
     "name": "stdout",
     "output_type": "stream",
     "text": [
      "         mese  coef\n",
      "0     Gennaio  0.76\n",
      "1    Febbraio  0.80\n",
      "2       Marzo  1.02\n",
      "3      Aprile  1.14\n",
      "4      Maggio  1.31\n",
      "5      Giugno  1.33\n",
      "6      Luglio  1.34\n",
      "7      Agosto  1.23\n",
      "8   Settembre  1.05\n",
      "9     Ottobre  0.93\n",
      "10   Novembre  0.77\n",
      "11   Dicembre  0.72\n"
     ]
    }
   ],
   "source": [
    "tc = pd.read_csv('C:\\\\Users\\\\Nicola\\\\Desktop\\\\NOTEBOOK\\\\IDROLOGIA\\\\terreno-agrario\\\\DATI\\\\thornthwaite.csv',sep=';')\n",
    "print(tc)\n",
    "tc.to_latex('thornthwaite.tex')\n",
    "writer = pd.ExcelWriter('tab1.xlsx')\n",
    "tc.to_excel(writer,'Sheet2')\n",
    "writer.save()"
   ]
  },
  {
   "cell_type": "markdown",
   "metadata": {
    "extensions": {
     "jupyter_dashboards": {
      "version": 1,
      "views": {
       "grid_default": {
        "col": 0,
        "height": 4,
        "hidden": false,
        "row": 30,
        "width": 12
       },
       "report_default": {
        "hidden": false
       }
      }
     }
    }
   },
   "source": [
    "- tj , temperatura media del mese j-esimo espressa in gradi celsius\n",
    "- DP , altezza delle precipitazioni mensili [mm]\n",
    "- b_j , coefficiente correttivo di Thornthwaite che tiene conto della lunghezza media del giorno\n"
   ]
  },
  {
   "cell_type": "markdown",
   "metadata": {
    "extensions": {
     "jupyter_dashboards": {
      "version": 1,
      "views": {
       "grid_default": {
        "col": 0,
        "height": 4,
        "hidden": false,
        "row": 23,
        "width": 4
       },
       "report_default": {
        "hidden": false
       }
      }
     }
    }
   },
   "source": [
    "- Parma: regime pluviometrico sublitoraneo intermedio fra quello alpino e quello appenninico"
   ]
  },
  {
   "cell_type": "markdown",
   "metadata": {
    "extensions": {
     "jupyter_dashboards": {
      "version": 1,
      "views": {
       "grid_default": {
        "col": 0,
        "height": 4,
        "hidden": false,
        "row": 34,
        "width": null
       },
       "report_default": {
        "hidden": false
       }
      }
     }
    }
   },
   "source": [
    "- equazione di continuità ad un volume di controllo\n",
    "$$\\Delta P = \\Delta S + \\Delta E + \\Delta A$$"
   ]
  },
  {
   "cell_type": "markdown",
   "metadata": {
    "extensions": {
     "jupyter_dashboards": {
      "version": 1,
      "views": {
       "grid_default": {
        "col": 0,
        "height": 4,
        "hidden": false,
        "row": 38,
        "width": null
       },
       "report_default": {
        "hidden": false
       }
      }
     }
    }
   },
   "source": [
    "- $\\Delta P$ [mm] altezza precipitazioni mensili\n",
    "- $\\Delta S$ [mm] deflusso dal volume di controllo\n",
    "- $\\Delta E$ [mm] evapotraspirazione\n",
    "- $\\Delta A$ [mm] variazione volume d'acqua"
   ]
  },
  {
   "cell_type": "markdown",
   "metadata": {
    "extensions": {
     "jupyter_dashboards": {
      "version": 1,
      "views": {
       "grid_default": {
        "col": 0,
        "height": 4,
        "hidden": false,
        "row": 42,
        "width": 4
       },
       "report_default": {
        "hidden": false
       }
      }
     }
    }
   },
   "source": [
    "strumenti adatti per misurazione dell'evapotraspirazione : lisimetri, parcelle sperimentali, serre"
   ]
  },
  {
   "cell_type": "markdown",
   "metadata": {
    "extensions": {
     "jupyter_dashboards": {
      "version": 1,
      "views": {
       "grid_default": {
        "col": 4,
        "height": 5,
        "hidden": false,
        "row": 42,
        "width": null
       },
       "report_default": {
        "hidden": false
       }
      }
     }
    }
   },
   "source": [
    "- Thornthwaite e Benfratello:\n",
    "$$D = ET_p - E_t$$\n",
    "deficit agricolo medio, dove\n",
    "- $ET_p$ [mm] evapotraspirazione potenziale\n",
    "- $E_t$ [mm] evapotraspirazione effettiva"
   ]
  },
  {
   "cell_type": "markdown",
   "metadata": {
    "extensions": {
     "jupyter_dashboards": {
      "version": 1,
      "views": {
       "grid_default": {
        "col": 0,
        "height": 4,
        "hidden": false,
        "row": 47,
        "width": null
       },
       "report_default": {
        "hidden": false
       }
      }
     }
    }
   },
   "source": [
    "- Thornthwaite (1946)\n",
    "$$\\frac{\\Delta E_p (t)}{\\Delta t} = 16 b_j (\\frac{10 t_j}{I})^{\\alpha}$$"
   ]
  },
  {
   "cell_type": "markdown",
   "metadata": {
    "extensions": {
     "jupyter_dashboards": {
      "version": 1,
      "views": {
       "grid_default": {
        "col": 0,
        "height": 4,
        "hidden": false,
        "row": 51,
        "width": null
       },
       "report_default": {
        "hidden": false
       }
      }
     }
    }
   },
   "source": [
    "- indici termici mensili\n",
    "$$i_j = (\\frac{t_j}{5})^1,514$$"
   ]
  },
  {
   "cell_type": "code",
   "execution_count": 8,
   "metadata": {
    "extensions": {
     "jupyter_dashboards": {
      "version": 1,
      "views": {
       "grid_default": {
        "col": 0,
        "height": 9,
        "hidden": false,
        "row": 55,
        "width": 4
       },
       "report_default": {
        "hidden": false
       }
      }
     }
    }
   },
   "outputs": [
    {
     "data": {
      "text/plain": [
       "0      0.229257\n",
       "1      0.748700\n",
       "2      2.651037\n",
       "3      4.343202\n",
       "4      6.709930\n",
       "5      9.261317\n",
       "6     11.490563\n",
       "7     10.974344\n",
       "8      8.592875\n",
       "9      4.950013\n",
       "10     1.733193\n",
       "11     0.567687\n",
       "Name: temp, dtype: float64"
      ]
     },
     "execution_count": 8,
     "metadata": {},
     "output_type": "execute_result"
    }
   ],
   "source": [
    "import numpy as np\n",
    "tab1['temp']\n",
    "ij = (tab1['temp']/5)**1.514\n",
    "ij"
   ]
  },
  {
   "cell_type": "markdown",
   "metadata": {
    "extensions": {
     "jupyter_dashboards": {
      "version": 1,
      "views": {
       "grid_default": {
        "col": 4,
        "height": 4,
        "hidden": false,
        "row": 55,
        "width": null
       },
       "report_default": {
        "hidden": false
       }
      }
     }
    }
   },
   "source": [
    "- determinazione dell'indice termico annuale\n",
    "$$I = \\sum_{j=1}^{12} Ij$$"
   ]
  },
  {
   "cell_type": "code",
   "execution_count": 9,
   "metadata": {
    "extensions": {
     "jupyter_dashboards": {
      "version": 1,
      "views": {
       "grid_default": {
        "col": 4,
        "height": 4,
        "hidden": false,
        "row": 59,
        "width": 4
       },
       "report_default": {
        "hidden": false
       }
      }
     }
    }
   },
   "outputs": [
    {
     "name": "stdout",
     "output_type": "stream",
     "text": [
      "Indice termico annuale I:  62.252\n"
     ]
    }
   ],
   "source": [
    "# indice termico annuale\n",
    "I = ij.sum()\n",
    "print ('Indice termico annuale I: ',np.around(I, decimals=3))"
   ]
  },
  {
   "cell_type": "markdown",
   "metadata": {
    "extensions": {
     "jupyter_dashboards": {
      "version": 1,
      "views": {
       "grid_default": {
        "col": 8,
        "height": 4,
        "hidden": false,
        "row": 59,
        "width": null
       },
       "report_default": {
        "hidden": false
       }
      }
     }
    }
   },
   "source": [
    "- Valore del prametro $\\alpha$ per climi temperati\n",
    "$$\\alpha = \\frac{1,6}{100} * I + 0,5$$"
   ]
  },
  {
   "cell_type": "code",
   "execution_count": 10,
   "metadata": {
    "extensions": {
     "jupyter_dashboards": {
      "version": 1,
      "views": {
       "grid_default": {
        "col": 4,
        "height": 4,
        "hidden": false,
        "row": 63,
        "width": 4
       },
       "report_default": {
        "hidden": false
       }
      }
     }
    }
   },
   "outputs": [
    {
     "name": "stdout",
     "output_type": "stream",
     "text": [
      "Il valore del parametro alpha :  1.496\n"
     ]
    }
   ],
   "source": [
    "# determinazione del parametro alpha\n",
    "alpha = 1.6/100*I + 0.5\n",
    "print ('Il valore del parametro alpha : ', np.around(alpha, decimals=3))"
   ]
  },
  {
   "cell_type": "code",
   "execution_count": 11,
   "metadata": {
    "extensions": {
     "jupyter_dashboards": {
      "version": 1,
      "views": {
       "grid_default": {
        "col": 8,
        "height": 9,
        "hidden": false,
        "row": 63,
        "width": 4
       },
       "report_default": {
        "hidden": false
       }
      }
     }
    }
   },
   "outputs": [
    {
     "name": "stdout",
     "output_type": "stream",
     "text": [
      "Evapotraspirazione potenziale mensile: \n",
      " 0       2.043847\n",
      "1       6.928044\n",
      "2      30.811490\n",
      "3      56.087685\n",
      "4      99.060430\n",
      "5     138.284820\n",
      "6     172.418831\n",
      "7     151.237388\n",
      "8     101.382739\n",
      "9      52.067649\n",
      "10     15.283565\n",
      "11      4.743300\n",
      "dtype: float64\n"
     ]
    }
   ],
   "source": [
    "# calcolo dell'evapotraspirazione potenziale mensile\n",
    "Ep = 16*tc['coef']*(10*tab1['temp']/I)**alpha\n",
    "print ('Evapotraspirazione potenziale mensile: \\n', Ep)"
   ]
  },
  {
   "cell_type": "code",
   "execution_count": 12,
   "metadata": {
    "extensions": {
     "jupyter_dashboards": {
      "version": 1,
      "views": {
       "grid_default": {
        "hidden": true
       },
       "report_default": {
        "hidden": true
       }
      }
     }
    }
   },
   "outputs": [],
   "source": [
    "tab1['ij']=ij\n",
    "tab1['Ep']=Ep\n",
    "tab1\n",
    "writer = pd.ExcelWriter('tab1.xlsx')\n",
    "tab1.to_excel(writer,'Sheet1')\n",
    "writer.save()"
   ]
  },
  {
   "cell_type": "markdown",
   "metadata": {
    "extensions": {
     "jupyter_dashboards": {
      "version": 1,
      "views": {
       "grid_default": {
        "col": 0,
        "height": 4,
        "hidden": false,
        "row": 64,
        "width": 4
       },
       "report_default": {
        "hidden": false
       }
      }
     }
    }
   },
   "source": [
    "- l'evapotraspirazione potenziale è massima nel periodo estivo e minima nel periodo invernale"
   ]
  },
  {
   "cell_type": "markdown",
   "metadata": {
    "extensions": {
     "jupyter_dashboards": {
      "version": 1,
      "views": {
       "grid_default": {
        "col": 0,
        "height": 5,
        "hidden": false,
        "row": 72,
        "width": null
       },
       "report_default": {
        "hidden": false
       }
      }
     }
    }
   },
   "source": [
    "modello di Thonthwaite - Benfratello\n",
    "suddivisione del periodo annuale in due parti: \n",
    "- STAGIONE SECCA $\\frac{dP}{dt} < \\frac{dE_p}{dt}$\n",
    "- STAGIONE UMIDA $\\frac{dP}{dt} > \\frac{dE_p}{dt}$"
   ]
  },
  {
   "cell_type": "code",
   "execution_count": 13,
   "metadata": {
    "extensions": {
     "jupyter_dashboards": {
      "version": 1,
      "views": {
       "grid_default": {
        "hidden": true
       },
       "report_default": {
        "hidden": true
       }
      }
     }
    }
   },
   "outputs": [],
   "source": [
    "secca = tab1[4:9]\n",
    "secca\n",
    "writer = pd.ExcelWriter('tab1.xlsx')\n",
    "secca.to_excel(writer,'Sheet1')\n",
    "writer.save()"
   ]
  },
  {
   "cell_type": "code",
   "execution_count": 14,
   "metadata": {
    "extensions": {
     "jupyter_dashboards": {
      "version": 1,
      "views": {
       "grid_default": {
        "col": 0,
        "height": 9,
        "hidden": false,
        "row": 77,
        "width": 4
       },
       "report_default": {
        "hidden": false
       }
      }
     }
    }
   },
   "outputs": [
    {
     "name": "stdout",
     "output_type": "stream",
     "text": [
      "       mese   temp  prec        ij         Ep\n",
      "0   Gennaio   1.89  51.0  0.229257   2.043847\n",
      "1  Febbraio   4.13  39.0  0.748700   6.928044\n",
      "2     Marzo   9.52  78.0  2.651037  30.811490\n",
      "3    Aprile  13.19  73.0  4.343202  56.087685\n",
      "        mese   temp   prec        ij         Ep\n",
      "9    Ottobre  14.38  112.0  4.950013  52.067649\n",
      "10  Novembre   7.19   72.0  1.733193  15.283565\n",
      "11  Dicembre   3.44   47.0  0.567687   4.743300\n"
     ]
    }
   ],
   "source": [
    "# stagione umida\n",
    "umida1 = tab1[0:4]\n",
    "umida2 = tab1[9:12]\n",
    "print (umida1)\n",
    "print (umida2)"
   ]
  },
  {
   "cell_type": "code",
   "execution_count": 15,
   "metadata": {
    "extensions": {
     "jupyter_dashboards": {
      "version": 1,
      "views": {
       "grid_default": {
        "col": 4,
        "height": 4,
        "hidden": false,
        "row": 67,
        "width": 4
       },
       "report_default": {
        "hidden": false
       }
      }
     }
    }
   },
   "outputs": [
    {
     "name": "stdout",
     "output_type": "stream",
     "text": [
      "La precipitazione totale nella stagione umida è pari a [mm]:  472.0\n"
     ]
    }
   ],
   "source": [
    "# calcolo della precipitazione totale nella stagione umida\n",
    "P = umida1['prec'].sum() + umida2['prec'].sum()\n",
    "print ('La precipitazione totale nella stagione umida è pari a [mm]: ', P)"
   ]
  },
  {
   "cell_type": "markdown",
   "metadata": {
    "extensions": {
     "jupyter_dashboards": {
      "version": 1,
      "views": {
       "grid_default": {
        "col": 4,
        "height": 5,
        "hidden": false,
        "row": 77,
        "width": null
       },
       "report_default": {
        "hidden": false
       }
      }
     }
    }
   },
   "source": [
    "ipotesi del modello\n",
    "- nella stagione secca deflusso dal volume di controllo nullo : $\\frac{\\Delta S}{\\Delta t} = 0$\n",
    "- nella stagione umida : $\\frac{\\Delta E}{\\Delta T} = \\frac{\\Delta E_p}{\\Delta t}$\n",
    "- nella stagione umida : $\\frac{\\Delta S}{\\Delta t} = 0 $ finche $A(t) < U$\n",
    "U capacità massima utilizzabile"
   ]
  },
  {
   "cell_type": "markdown",
   "metadata": {
    "extensions": {
     "jupyter_dashboards": {
      "version": 1,
      "views": {
       "grid_default": {
        "col": 0,
        "height": 4,
        "hidden": false,
        "row": 68,
        "width": 4
       },
       "report_default": {
        "hidden": false
       }
      }
     }
    }
   },
   "source": [
    "- rendimento delle colture massimo quando è massima la traspirazione"
   ]
  },
  {
   "cell_type": "markdown",
   "metadata": {
    "extensions": {
     "jupyter_dashboards": {
      "version": 1,
      "views": {
       "grid_default": {
        "col": 4,
        "height": 4,
        "hidden": false,
        "row": 82,
        "width": 4
       },
       "report_default": {
        "hidden": false
       }
      }
     }
    }
   },
   "source": [
    "- per aumentare il rendimento massimo delle colture o anche per renderle possibili è necessario aumentare artificialmente il contenuto d'acqua - IRRIGAZIONE"
   ]
  },
  {
   "cell_type": "markdown",
   "metadata": {
    "extensions": {
     "jupyter_dashboards": {
      "version": 1,
      "views": {
       "grid_default": {
        "col": 8,
        "height": 4,
        "hidden": false,
        "row": 82,
        "width": null
       },
       "report_default": {
        "hidden": false
       }
      }
     }
    }
   },
   "source": [
    "- nella stagione secca due incognite: $\\frac{dA}{dt}$ e $\\frac{dE}{dt}$\n",
    "necessita l'introduzione di alcune grandezze cumulate"
   ]
  },
  {
   "cell_type": "code",
   "execution_count": 16,
   "metadata": {
    "extensions": {
     "jupyter_dashboards": {
      "version": 1,
      "views": {
       "grid_default": {
        "col": 0,
        "height": 8,
        "hidden": false,
        "row": 86,
        "width": 4
       },
       "report_default": {
        "hidden": false
       }
      }
     }
    }
   },
   "outputs": [
    {
     "data": {
      "text/html": [
       "<div>\n",
       "<style scoped>\n",
       "    .dataframe tbody tr th:only-of-type {\n",
       "        vertical-align: middle;\n",
       "    }\n",
       "\n",
       "    .dataframe tbody tr th {\n",
       "        vertical-align: top;\n",
       "    }\n",
       "\n",
       "    .dataframe thead th {\n",
       "        text-align: right;\n",
       "    }\n",
       "</style>\n",
       "<table border=\"1\" class=\"dataframe\">\n",
       "  <thead>\n",
       "    <tr style=\"text-align: right;\">\n",
       "      <th></th>\n",
       "      <th>prec</th>\n",
       "      <th>Ep</th>\n",
       "    </tr>\n",
       "    <tr>\n",
       "      <th>mese</th>\n",
       "      <th></th>\n",
       "      <th></th>\n",
       "    </tr>\n",
       "  </thead>\n",
       "  <tbody>\n",
       "    <tr>\n",
       "      <th>Maggio</th>\n",
       "      <td>63.0</td>\n",
       "      <td>99.060430</td>\n",
       "    </tr>\n",
       "    <tr>\n",
       "      <th>Giugno</th>\n",
       "      <td>116.0</td>\n",
       "      <td>237.345250</td>\n",
       "    </tr>\n",
       "    <tr>\n",
       "      <th>Luglio</th>\n",
       "      <td>148.0</td>\n",
       "      <td>409.764081</td>\n",
       "    </tr>\n",
       "    <tr>\n",
       "      <th>Agosto</th>\n",
       "      <td>205.0</td>\n",
       "      <td>561.001469</td>\n",
       "    </tr>\n",
       "    <tr>\n",
       "      <th>Settembre</th>\n",
       "      <td>255.0</td>\n",
       "      <td>662.384208</td>\n",
       "    </tr>\n",
       "  </tbody>\n",
       "</table>\n",
       "</div>"
      ],
      "text/plain": [
       "            prec          Ep\n",
       "mese                        \n",
       "Maggio      63.0   99.060430\n",
       "Giugno     116.0  237.345250\n",
       "Luglio     148.0  409.764081\n",
       "Agosto     205.0  561.001469\n",
       "Settembre  255.0  662.384208"
      ]
     },
     "execution_count": 16,
     "metadata": {},
     "output_type": "execute_result"
    }
   ],
   "source": [
    "# determinazione della precipitazione cumulata e dell'evapotraspirazione cumulata\n",
    "spc= secca.set_index('mese').cumsum()\n",
    "columns=['prec','Ep']\n",
    "spc[columns]"
   ]
  },
  {
   "cell_type": "markdown",
   "metadata": {
    "extensions": {
     "jupyter_dashboards": {
      "version": 1,
      "views": {
       "grid_default": {
        "col": 4,
        "height": 4,
        "hidden": false,
        "row": 86,
        "width": null
       },
       "report_default": {
        "hidden": false
       }
      }
     }
    }
   },
   "source": [
    "- da tali grandezze cumulate è possibile ricavare la PERDITA POTENZIALE\n",
    "$$L(t) = P(t) - E_p(t)$$"
   ]
  },
  {
   "cell_type": "code",
   "execution_count": 17,
   "metadata": {
    "extensions": {
     "jupyter_dashboards": {
      "version": 1,
      "views": {
       "grid_default": {
        "col": 4,
        "height": 5,
        "hidden": false,
        "row": 90,
        "width": 4
       },
       "report_default": {
        "hidden": false
       }
      }
     }
    }
   },
   "outputs": [
    {
     "data": {
      "text/plain": [
       "mese\n",
       "Maggio       -36.060430\n",
       "Giugno      -121.345250\n",
       "Luglio      -261.764081\n",
       "Agosto      -356.001469\n",
       "Settembre   -407.384208\n",
       "dtype: float64"
      ]
     },
     "execution_count": 17,
     "metadata": {},
     "output_type": "execute_result"
    }
   ],
   "source": [
    "L = spc['prec'] - spc['Ep']\n",
    "L"
   ]
  },
  {
   "cell_type": "code",
   "execution_count": 18,
   "metadata": {
    "extensions": {
     "jupyter_dashboards": {
      "version": 1,
      "views": {
       "grid_default": {
        "col": 0,
        "height": 8,
        "hidden": false,
        "row": 95,
        "width": 5
       },
       "report_default": {
        "hidden": false
       }
      }
     }
    }
   },
   "outputs": [
    {
     "data": {
      "text/html": [
       "<div>\n",
       "<style scoped>\n",
       "    .dataframe tbody tr th:only-of-type {\n",
       "        vertical-align: middle;\n",
       "    }\n",
       "\n",
       "    .dataframe tbody tr th {\n",
       "        vertical-align: top;\n",
       "    }\n",
       "\n",
       "    .dataframe thead th {\n",
       "        text-align: right;\n",
       "    }\n",
       "</style>\n",
       "<table border=\"1\" class=\"dataframe\">\n",
       "  <thead>\n",
       "    <tr style=\"text-align: right;\">\n",
       "      <th></th>\n",
       "      <th>temp</th>\n",
       "      <th>prec</th>\n",
       "      <th>ij</th>\n",
       "      <th>Ep</th>\n",
       "      <th>L</th>\n",
       "    </tr>\n",
       "    <tr>\n",
       "      <th>mese</th>\n",
       "      <th></th>\n",
       "      <th></th>\n",
       "      <th></th>\n",
       "      <th></th>\n",
       "      <th></th>\n",
       "    </tr>\n",
       "  </thead>\n",
       "  <tbody>\n",
       "    <tr>\n",
       "      <th>Maggio</th>\n",
       "      <td>17.58</td>\n",
       "      <td>63.0</td>\n",
       "      <td>6.709930</td>\n",
       "      <td>99.060430</td>\n",
       "      <td>-36.060430</td>\n",
       "    </tr>\n",
       "    <tr>\n",
       "      <th>Giugno</th>\n",
       "      <td>39.33</td>\n",
       "      <td>116.0</td>\n",
       "      <td>15.971247</td>\n",
       "      <td>237.345250</td>\n",
       "      <td>-121.345250</td>\n",
       "    </tr>\n",
       "    <tr>\n",
       "      <th>Luglio</th>\n",
       "      <td>64.41</td>\n",
       "      <td>148.0</td>\n",
       "      <td>27.461809</td>\n",
       "      <td>409.764081</td>\n",
       "      <td>-261.764081</td>\n",
       "    </tr>\n",
       "    <tr>\n",
       "      <th>Agosto</th>\n",
       "      <td>88.74</td>\n",
       "      <td>205.0</td>\n",
       "      <td>38.436153</td>\n",
       "      <td>561.001469</td>\n",
       "      <td>-356.001469</td>\n",
       "    </tr>\n",
       "    <tr>\n",
       "      <th>Settembre</th>\n",
       "      <td>109.44</td>\n",
       "      <td>255.0</td>\n",
       "      <td>47.029029</td>\n",
       "      <td>662.384208</td>\n",
       "      <td>-407.384208</td>\n",
       "    </tr>\n",
       "  </tbody>\n",
       "</table>\n",
       "</div>"
      ],
      "text/plain": [
       "             temp   prec         ij          Ep           L\n",
       "mese                                                       \n",
       "Maggio      17.58   63.0   6.709930   99.060430  -36.060430\n",
       "Giugno      39.33  116.0  15.971247  237.345250 -121.345250\n",
       "Luglio      64.41  148.0  27.461809  409.764081 -261.764081\n",
       "Agosto      88.74  205.0  38.436153  561.001469 -356.001469\n",
       "Settembre  109.44  255.0  47.029029  662.384208 -407.384208"
      ]
     },
     "execution_count": 18,
     "metadata": {},
     "output_type": "execute_result"
    }
   ],
   "source": [
    "spc['L'] = L\n",
    "spc"
   ]
  },
  {
   "cell_type": "markdown",
   "metadata": {
    "extensions": {
     "jupyter_dashboards": {
      "version": 1,
      "views": {
       "grid_default": {
        "col": 8,
        "height": 4,
        "hidden": false,
        "row": 90,
        "width": null
       },
       "report_default": {
        "hidden": false
       }
      }
     }
    }
   },
   "source": [
    "- si considera ora  l'EQUAZIONE DI ESSICAMENTO\n",
    "$$\\frac{dA}{dL} = (\\frac{A(t)}{U})^m$$\n",
    "per la cui risoluzione si introducono alcuni parametri"
   ]
  },
  {
   "cell_type": "markdown",
   "metadata": {
    "extensions": {
     "jupyter_dashboards": {
      "version": 1,
      "views": {
       "grid_default": {
        "col": 8,
        "height": 4,
        "hidden": false,
        "row": 94,
        "width": null
       },
       "report_default": {
        "hidden": false
       }
      }
     }
    }
   },
   "source": [
    "- parametro $\\lambda$\n",
    "$$\\lambda = \\frac{L(t)}{U}$$"
   ]
  },
  {
   "cell_type": "code",
   "execution_count": 19,
   "metadata": {
    "extensions": {
     "jupyter_dashboards": {
      "version": 1,
      "views": {
       "grid_default": {
        "col": 5,
        "height": 5,
        "hidden": false,
        "row": 98,
        "width": 4
       },
       "report_default": {
        "hidden": false
       }
      }
     }
    }
   },
   "outputs": [
    {
     "data": {
      "text/plain": [
       "mese\n",
       "Maggio      -0.360604\n",
       "Giugno      -1.213452\n",
       "Luglio      -2.617641\n",
       "Agosto      -3.560015\n",
       "Settembre   -4.073842\n",
       "Name: L, dtype: float64"
      ]
     },
     "execution_count": 19,
     "metadata": {},
     "output_type": "execute_result"
    }
   ],
   "source": [
    "# capacità di campo\n",
    "U = 100     # [mm]\n",
    "\n",
    "lam = spc['L'] / U\n",
    "lam"
   ]
  },
  {
   "cell_type": "code",
   "execution_count": 20,
   "metadata": {
    "extensions": {
     "jupyter_dashboards": {
      "version": 1,
      "views": {
       "grid_default": {
        "col": 0,
        "height": 8,
        "hidden": false,
        "row": 103,
        "width": 5
       },
       "report_default": {
        "hidden": false
       }
      }
     }
    }
   },
   "outputs": [
    {
     "data": {
      "text/html": [
       "<div>\n",
       "<style scoped>\n",
       "    .dataframe tbody tr th:only-of-type {\n",
       "        vertical-align: middle;\n",
       "    }\n",
       "\n",
       "    .dataframe tbody tr th {\n",
       "        vertical-align: top;\n",
       "    }\n",
       "\n",
       "    .dataframe thead th {\n",
       "        text-align: right;\n",
       "    }\n",
       "</style>\n",
       "<table border=\"1\" class=\"dataframe\">\n",
       "  <thead>\n",
       "    <tr style=\"text-align: right;\">\n",
       "      <th></th>\n",
       "      <th>temp</th>\n",
       "      <th>prec</th>\n",
       "      <th>ij</th>\n",
       "      <th>Ep</th>\n",
       "      <th>L</th>\n",
       "      <th>lam</th>\n",
       "    </tr>\n",
       "    <tr>\n",
       "      <th>mese</th>\n",
       "      <th></th>\n",
       "      <th></th>\n",
       "      <th></th>\n",
       "      <th></th>\n",
       "      <th></th>\n",
       "      <th></th>\n",
       "    </tr>\n",
       "  </thead>\n",
       "  <tbody>\n",
       "    <tr>\n",
       "      <th>Maggio</th>\n",
       "      <td>17.58</td>\n",
       "      <td>63.0</td>\n",
       "      <td>6.709930</td>\n",
       "      <td>99.060430</td>\n",
       "      <td>-36.060430</td>\n",
       "      <td>-0.360604</td>\n",
       "    </tr>\n",
       "    <tr>\n",
       "      <th>Giugno</th>\n",
       "      <td>39.33</td>\n",
       "      <td>116.0</td>\n",
       "      <td>15.971247</td>\n",
       "      <td>237.345250</td>\n",
       "      <td>-121.345250</td>\n",
       "      <td>-1.213452</td>\n",
       "    </tr>\n",
       "    <tr>\n",
       "      <th>Luglio</th>\n",
       "      <td>64.41</td>\n",
       "      <td>148.0</td>\n",
       "      <td>27.461809</td>\n",
       "      <td>409.764081</td>\n",
       "      <td>-261.764081</td>\n",
       "      <td>-2.617641</td>\n",
       "    </tr>\n",
       "    <tr>\n",
       "      <th>Agosto</th>\n",
       "      <td>88.74</td>\n",
       "      <td>205.0</td>\n",
       "      <td>38.436153</td>\n",
       "      <td>561.001469</td>\n",
       "      <td>-356.001469</td>\n",
       "      <td>-3.560015</td>\n",
       "    </tr>\n",
       "    <tr>\n",
       "      <th>Settembre</th>\n",
       "      <td>109.44</td>\n",
       "      <td>255.0</td>\n",
       "      <td>47.029029</td>\n",
       "      <td>662.384208</td>\n",
       "      <td>-407.384208</td>\n",
       "      <td>-4.073842</td>\n",
       "    </tr>\n",
       "  </tbody>\n",
       "</table>\n",
       "</div>"
      ],
      "text/plain": [
       "             temp   prec         ij          Ep           L       lam\n",
       "mese                                                                 \n",
       "Maggio      17.58   63.0   6.709930   99.060430  -36.060430 -0.360604\n",
       "Giugno      39.33  116.0  15.971247  237.345250 -121.345250 -1.213452\n",
       "Luglio      64.41  148.0  27.461809  409.764081 -261.764081 -2.617641\n",
       "Agosto      88.74  205.0  38.436153  561.001469 -356.001469 -3.560015\n",
       "Settembre  109.44  255.0  47.029029  662.384208 -407.384208 -4.073842"
      ]
     },
     "execution_count": 20,
     "metadata": {},
     "output_type": "execute_result"
    }
   ],
   "source": [
    "spc['lam'] = lam\n",
    "spc"
   ]
  },
  {
   "cell_type": "markdown",
   "metadata": {
    "extensions": {
     "jupyter_dashboards": {
      "version": 1,
      "views": {
       "grid_default": {
        "col": 9,
        "height": 4,
        "hidden": false,
        "row": 98,
        "width": null
       },
       "report_default": {
        "hidden": false
       }
      }
     }
    }
   },
   "source": [
    "- determinazione del parametro $\\alpha$\n",
    "$$\\alpha = \\frac{A(t)}{U}$$"
   ]
  },
  {
   "cell_type": "markdown",
   "metadata": {
    "extensions": {
     "jupyter_dashboards": {
      "version": 1,
      "views": {
       "grid_default": {
        "col": 9,
        "height": 5,
        "hidden": false,
        "row": 102,
        "width": null
       },
       "report_default": {
        "hidden": false
       }
      }
     }
    }
   },
   "source": [
    "- A(t) non è noto per cui il modello di Thornthwaite - Benfratello ci permette di determinarlo attraverso:\n",
    "- $m = 1$\n",
    "$$\\alpha = \\alpha_{max} * e^{\\lambda}$$\n",
    "- $m \\neq 1$\n",
    "$$\\alpha = [ \\alpha_{max}^{1 - m} + (1 - m)\\lambda]^{\\frac{1}{1 - m}}$$"
   ]
  },
  {
   "cell_type": "markdown",
   "metadata": {
    "extensions": {
     "jupyter_dashboards": {
      "version": 1,
      "views": {
       "grid_default": {
        "col": 5,
        "height": 4,
        "hidden": false,
        "row": 107,
        "width": null
       },
       "report_default": {
        "hidden": false
       }
      }
     }
    }
   },
   "source": [
    "- verifica della condizione sufficiente afficnhè $\\alpha_{max} = 1$\n",
    "\n"
   ]
  },
  {
   "cell_type": "code",
   "execution_count": 21,
   "metadata": {
    "extensions": {
     "jupyter_dashboards": {
      "version": 1,
      "views": {
       "grid_default": {
        "hidden": true
       },
       "report_default": {
        "hidden": true
       }
      }
     }
    }
   },
   "outputs": [],
   "source": [
    "alpha_max = 1"
   ]
  },
  {
   "cell_type": "markdown",
   "metadata": {
    "extensions": {
     "jupyter_dashboards": {
      "version": 1,
      "views": {
       "grid_default": {
        "col": 5,
        "height": 4,
        "hidden": false,
        "row": 103,
        "width": 4
       },
       "report_default": {
        "hidden": false
       }
      }
     }
    }
   },
   "source": [
    "- m = 0"
   ]
  },
  {
   "cell_type": "code",
   "execution_count": 22,
   "metadata": {
    "extensions": {
     "jupyter_dashboards": {
      "version": 1,
      "views": {
       "grid_default": {
        "col": 0,
        "height": 8,
        "hidden": false,
        "row": 111,
        "width": 6
       },
       "report_default": {
        "hidden": false
       }
      }
     }
    }
   },
   "outputs": [
    {
     "data": {
      "text/html": [
       "<div>\n",
       "<style scoped>\n",
       "    .dataframe tbody tr th:only-of-type {\n",
       "        vertical-align: middle;\n",
       "    }\n",
       "\n",
       "    .dataframe tbody tr th {\n",
       "        vertical-align: top;\n",
       "    }\n",
       "\n",
       "    .dataframe thead th {\n",
       "        text-align: right;\n",
       "    }\n",
       "</style>\n",
       "<table border=\"1\" class=\"dataframe\">\n",
       "  <thead>\n",
       "    <tr style=\"text-align: right;\">\n",
       "      <th></th>\n",
       "      <th>temp</th>\n",
       "      <th>prec</th>\n",
       "      <th>ij</th>\n",
       "      <th>Ep</th>\n",
       "      <th>L</th>\n",
       "      <th>lam</th>\n",
       "      <th>alpha0</th>\n",
       "    </tr>\n",
       "    <tr>\n",
       "      <th>mese</th>\n",
       "      <th></th>\n",
       "      <th></th>\n",
       "      <th></th>\n",
       "      <th></th>\n",
       "      <th></th>\n",
       "      <th></th>\n",
       "      <th></th>\n",
       "    </tr>\n",
       "  </thead>\n",
       "  <tbody>\n",
       "    <tr>\n",
       "      <th>Maggio</th>\n",
       "      <td>17.58</td>\n",
       "      <td>63.0</td>\n",
       "      <td>6.709930</td>\n",
       "      <td>99.060430</td>\n",
       "      <td>-36.060430</td>\n",
       "      <td>-0.360604</td>\n",
       "      <td>0.639396</td>\n",
       "    </tr>\n",
       "    <tr>\n",
       "      <th>Giugno</th>\n",
       "      <td>39.33</td>\n",
       "      <td>116.0</td>\n",
       "      <td>15.971247</td>\n",
       "      <td>237.345250</td>\n",
       "      <td>-121.345250</td>\n",
       "      <td>-1.213452</td>\n",
       "      <td>0.000000</td>\n",
       "    </tr>\n",
       "    <tr>\n",
       "      <th>Luglio</th>\n",
       "      <td>64.41</td>\n",
       "      <td>148.0</td>\n",
       "      <td>27.461809</td>\n",
       "      <td>409.764081</td>\n",
       "      <td>-261.764081</td>\n",
       "      <td>-2.617641</td>\n",
       "      <td>0.000000</td>\n",
       "    </tr>\n",
       "    <tr>\n",
       "      <th>Agosto</th>\n",
       "      <td>88.74</td>\n",
       "      <td>205.0</td>\n",
       "      <td>38.436153</td>\n",
       "      <td>561.001469</td>\n",
       "      <td>-356.001469</td>\n",
       "      <td>-3.560015</td>\n",
       "      <td>0.000000</td>\n",
       "    </tr>\n",
       "    <tr>\n",
       "      <th>Settembre</th>\n",
       "      <td>109.44</td>\n",
       "      <td>255.0</td>\n",
       "      <td>47.029029</td>\n",
       "      <td>662.384208</td>\n",
       "      <td>-407.384208</td>\n",
       "      <td>-4.073842</td>\n",
       "      <td>0.000000</td>\n",
       "    </tr>\n",
       "  </tbody>\n",
       "</table>\n",
       "</div>"
      ],
      "text/plain": [
       "             temp   prec         ij          Ep           L       lam  \\\n",
       "mese                                                                    \n",
       "Maggio      17.58   63.0   6.709930   99.060430  -36.060430 -0.360604   \n",
       "Giugno      39.33  116.0  15.971247  237.345250 -121.345250 -1.213452   \n",
       "Luglio      64.41  148.0  27.461809  409.764081 -261.764081 -2.617641   \n",
       "Agosto      88.74  205.0  38.436153  561.001469 -356.001469 -3.560015   \n",
       "Settembre  109.44  255.0  47.029029  662.384208 -407.384208 -4.073842   \n",
       "\n",
       "             alpha0  \n",
       "mese                 \n",
       "Maggio     0.639396  \n",
       "Giugno     0.000000  \n",
       "Luglio     0.000000  \n",
       "Agosto     0.000000  \n",
       "Settembre  0.000000  "
      ]
     },
     "execution_count": 22,
     "metadata": {},
     "output_type": "execute_result"
    }
   ],
   "source": [
    "alpha0 = alpha_max + lam\n",
    "spc['alpha0'] = alpha0 \n",
    "spc.loc[spc['alpha0'] < 0, 'alpha0'] = 0\n",
    "spc"
   ]
  },
  {
   "cell_type": "markdown",
   "metadata": {
    "extensions": {
     "jupyter_dashboards": {
      "version": 1,
      "views": {
       "grid_default": {
        "col": 6,
        "height": 4,
        "hidden": false,
        "row": 111,
        "width": 4
       },
       "report_default": {
        "hidden": false
       }
      }
     }
    }
   },
   "source": [
    "- m = 1"
   ]
  },
  {
   "cell_type": "code",
   "execution_count": 23,
   "metadata": {
    "extensions": {
     "jupyter_dashboards": {
      "version": 1,
      "views": {
       "grid_default": {
        "hidden": true
       },
       "report_default": {
        "hidden": true
       }
      }
     }
    }
   },
   "outputs": [],
   "source": [
    "import numpy as np\n",
    "alpha1 = alpha_max * np.exp(lam)\n",
    "alpha1\n",
    "spc['alpha1'] = alpha1\n"
   ]
  },
  {
   "cell_type": "markdown",
   "metadata": {
    "extensions": {
     "jupyter_dashboards": {
      "version": 1,
      "views": {
       "grid_default": {
        "col": 6,
        "height": 4,
        "hidden": false,
        "row": 115,
        "width": 4
       },
       "report_default": {
        "hidden": false
       }
      }
     }
    }
   },
   "source": [
    "- m = 2"
   ]
  },
  {
   "cell_type": "code",
   "execution_count": 24,
   "metadata": {
    "extensions": {
     "jupyter_dashboards": {
      "version": 1,
      "views": {
       "grid_default": {
        "col": 0,
        "height": 8,
        "hidden": false,
        "row": 119,
        "width": 7
       },
       "report_default": {
        "hidden": false
       }
      }
     }
    }
   },
   "outputs": [
    {
     "data": {
      "text/html": [
       "<div>\n",
       "<style scoped>\n",
       "    .dataframe tbody tr th:only-of-type {\n",
       "        vertical-align: middle;\n",
       "    }\n",
       "\n",
       "    .dataframe tbody tr th {\n",
       "        vertical-align: top;\n",
       "    }\n",
       "\n",
       "    .dataframe thead th {\n",
       "        text-align: right;\n",
       "    }\n",
       "</style>\n",
       "<table border=\"1\" class=\"dataframe\">\n",
       "  <thead>\n",
       "    <tr style=\"text-align: right;\">\n",
       "      <th></th>\n",
       "      <th>temp</th>\n",
       "      <th>prec</th>\n",
       "      <th>ij</th>\n",
       "      <th>Ep</th>\n",
       "      <th>L</th>\n",
       "      <th>lam</th>\n",
       "      <th>alpha0</th>\n",
       "      <th>alpha1</th>\n",
       "      <th>alpha2</th>\n",
       "    </tr>\n",
       "    <tr>\n",
       "      <th>mese</th>\n",
       "      <th></th>\n",
       "      <th></th>\n",
       "      <th></th>\n",
       "      <th></th>\n",
       "      <th></th>\n",
       "      <th></th>\n",
       "      <th></th>\n",
       "      <th></th>\n",
       "      <th></th>\n",
       "    </tr>\n",
       "  </thead>\n",
       "  <tbody>\n",
       "    <tr>\n",
       "      <th>Maggio</th>\n",
       "      <td>17.58</td>\n",
       "      <td>63.0</td>\n",
       "      <td>6.709930</td>\n",
       "      <td>99.060430</td>\n",
       "      <td>-36.060430</td>\n",
       "      <td>-0.360604</td>\n",
       "      <td>0.639396</td>\n",
       "      <td>0.697255</td>\n",
       "      <td>0.734968</td>\n",
       "    </tr>\n",
       "    <tr>\n",
       "      <th>Giugno</th>\n",
       "      <td>39.33</td>\n",
       "      <td>116.0</td>\n",
       "      <td>15.971247</td>\n",
       "      <td>237.345250</td>\n",
       "      <td>-121.345250</td>\n",
       "      <td>-1.213452</td>\n",
       "      <td>0.000000</td>\n",
       "      <td>0.297170</td>\n",
       "      <td>0.451783</td>\n",
       "    </tr>\n",
       "    <tr>\n",
       "      <th>Luglio</th>\n",
       "      <td>64.41</td>\n",
       "      <td>148.0</td>\n",
       "      <td>27.461809</td>\n",
       "      <td>409.764081</td>\n",
       "      <td>-261.764081</td>\n",
       "      <td>-2.617641</td>\n",
       "      <td>0.000000</td>\n",
       "      <td>0.072975</td>\n",
       "      <td>0.276423</td>\n",
       "    </tr>\n",
       "    <tr>\n",
       "      <th>Agosto</th>\n",
       "      <td>88.74</td>\n",
       "      <td>205.0</td>\n",
       "      <td>38.436153</td>\n",
       "      <td>561.001469</td>\n",
       "      <td>-356.001469</td>\n",
       "      <td>-3.560015</td>\n",
       "      <td>0.000000</td>\n",
       "      <td>0.028438</td>\n",
       "      <td>0.219298</td>\n",
       "    </tr>\n",
       "    <tr>\n",
       "      <th>Settembre</th>\n",
       "      <td>109.44</td>\n",
       "      <td>255.0</td>\n",
       "      <td>47.029029</td>\n",
       "      <td>662.384208</td>\n",
       "      <td>-407.384208</td>\n",
       "      <td>-4.073842</td>\n",
       "      <td>0.000000</td>\n",
       "      <td>0.017012</td>\n",
       "      <td>0.197089</td>\n",
       "    </tr>\n",
       "  </tbody>\n",
       "</table>\n",
       "</div>"
      ],
      "text/plain": [
       "             temp   prec         ij          Ep           L       lam  \\\n",
       "mese                                                                    \n",
       "Maggio      17.58   63.0   6.709930   99.060430  -36.060430 -0.360604   \n",
       "Giugno      39.33  116.0  15.971247  237.345250 -121.345250 -1.213452   \n",
       "Luglio      64.41  148.0  27.461809  409.764081 -261.764081 -2.617641   \n",
       "Agosto      88.74  205.0  38.436153  561.001469 -356.001469 -3.560015   \n",
       "Settembre  109.44  255.0  47.029029  662.384208 -407.384208 -4.073842   \n",
       "\n",
       "             alpha0    alpha1    alpha2  \n",
       "mese                                     \n",
       "Maggio     0.639396  0.697255  0.734968  \n",
       "Giugno     0.000000  0.297170  0.451783  \n",
       "Luglio     0.000000  0.072975  0.276423  \n",
       "Agosto     0.000000  0.028438  0.219298  \n",
       "Settembre  0.000000  0.017012  0.197089  "
      ]
     },
     "execution_count": 24,
     "metadata": {},
     "output_type": "execute_result"
    }
   ],
   "source": [
    "m = 2\n",
    "alpha2 = (alpha_max**(1 - m) + (1 - m)*lam)**(1-m)\n",
    "spc['alpha2'] = alpha2\n",
    "spc"
   ]
  },
  {
   "cell_type": "markdown",
   "metadata": {
    "extensions": {
     "jupyter_dashboards": {
      "version": 1,
      "views": {
       "grid_default": {
        "col": 7,
        "height": 4,
        "hidden": false,
        "row": 119,
        "width": 4
       },
       "report_default": {
        "hidden": false
       }
      }
     }
    }
   },
   "source": [
    "- se alpha è negativo allora potenzialmente il terreno sarebbe completamente secco"
   ]
  },
  {
   "cell_type": "markdown",
   "metadata": {
    "extensions": {
     "jupyter_dashboards": {
      "version": 1,
      "views": {
       "grid_default": {
        "col": 7,
        "height": 4,
        "hidden": false,
        "row": 123,
        "width": 4
       },
       "report_default": {
        "hidden": false
       }
      }
     }
    }
   },
   "source": [
    "# Determinazione dei risultati  del bilancio"
   ]
  },
  {
   "cell_type": "markdown",
   "metadata": {
    "extensions": {
     "jupyter_dashboards": {
      "version": 1,
      "views": {
       "grid_default": {
        "col": 0,
        "height": 4,
        "hidden": false,
        "row": 127,
        "width": 4
       },
       "report_default": {
        "hidden": false
       }
      }
     }
    }
   },
   "source": [
    "# Determinatione risultati stagione secca"
   ]
  },
  {
   "cell_type": "markdown",
   "metadata": {
    "extensions": {
     "jupyter_dashboards": {
      "version": 1,
      "views": {
       "grid_default": {
        "col": 4,
        "height": 4,
        "hidden": false,
        "row": 127,
        "width": 4
       },
       "report_default": {
        "hidden": false
       }
      }
     }
    }
   },
   "source": [
    "- m = 0"
   ]
  },
  {
   "cell_type": "code",
   "execution_count": 25,
   "metadata": {
    "extensions": {
     "jupyter_dashboards": {
      "version": 1,
      "views": {
       "grid_default": {
        "col": 0,
        "height": 8,
        "hidden": false,
        "row": 131,
        "width": 8
       },
       "report_default": {
        "hidden": false
       }
      }
     }
    }
   },
   "outputs": [
    {
     "data": {
      "text/html": [
       "<div>\n",
       "<style scoped>\n",
       "    .dataframe tbody tr th:only-of-type {\n",
       "        vertical-align: middle;\n",
       "    }\n",
       "\n",
       "    .dataframe tbody tr th {\n",
       "        vertical-align: top;\n",
       "    }\n",
       "\n",
       "    .dataframe thead th {\n",
       "        text-align: right;\n",
       "    }\n",
       "</style>\n",
       "<table border=\"1\" class=\"dataframe\">\n",
       "  <thead>\n",
       "    <tr style=\"text-align: right;\">\n",
       "      <th></th>\n",
       "      <th>temp</th>\n",
       "      <th>prec</th>\n",
       "      <th>ij</th>\n",
       "      <th>Ep</th>\n",
       "      <th>L</th>\n",
       "      <th>lam</th>\n",
       "      <th>alpha0</th>\n",
       "      <th>alpha1</th>\n",
       "      <th>alpha2</th>\n",
       "      <th>At [mm]</th>\n",
       "    </tr>\n",
       "    <tr>\n",
       "      <th>mese</th>\n",
       "      <th></th>\n",
       "      <th></th>\n",
       "      <th></th>\n",
       "      <th></th>\n",
       "      <th></th>\n",
       "      <th></th>\n",
       "      <th></th>\n",
       "      <th></th>\n",
       "      <th></th>\n",
       "      <th></th>\n",
       "    </tr>\n",
       "  </thead>\n",
       "  <tbody>\n",
       "    <tr>\n",
       "      <th>Maggio</th>\n",
       "      <td>17.58</td>\n",
       "      <td>63.0</td>\n",
       "      <td>6.709930</td>\n",
       "      <td>99.060430</td>\n",
       "      <td>-36.060430</td>\n",
       "      <td>-0.360604</td>\n",
       "      <td>0.639396</td>\n",
       "      <td>0.697255</td>\n",
       "      <td>0.734968</td>\n",
       "      <td>63.93957</td>\n",
       "    </tr>\n",
       "    <tr>\n",
       "      <th>Giugno</th>\n",
       "      <td>39.33</td>\n",
       "      <td>116.0</td>\n",
       "      <td>15.971247</td>\n",
       "      <td>237.345250</td>\n",
       "      <td>-121.345250</td>\n",
       "      <td>-1.213452</td>\n",
       "      <td>0.000000</td>\n",
       "      <td>0.297170</td>\n",
       "      <td>0.451783</td>\n",
       "      <td>0.00000</td>\n",
       "    </tr>\n",
       "    <tr>\n",
       "      <th>Luglio</th>\n",
       "      <td>64.41</td>\n",
       "      <td>148.0</td>\n",
       "      <td>27.461809</td>\n",
       "      <td>409.764081</td>\n",
       "      <td>-261.764081</td>\n",
       "      <td>-2.617641</td>\n",
       "      <td>0.000000</td>\n",
       "      <td>0.072975</td>\n",
       "      <td>0.276423</td>\n",
       "      <td>0.00000</td>\n",
       "    </tr>\n",
       "    <tr>\n",
       "      <th>Agosto</th>\n",
       "      <td>88.74</td>\n",
       "      <td>205.0</td>\n",
       "      <td>38.436153</td>\n",
       "      <td>561.001469</td>\n",
       "      <td>-356.001469</td>\n",
       "      <td>-3.560015</td>\n",
       "      <td>0.000000</td>\n",
       "      <td>0.028438</td>\n",
       "      <td>0.219298</td>\n",
       "      <td>0.00000</td>\n",
       "    </tr>\n",
       "    <tr>\n",
       "      <th>Settembre</th>\n",
       "      <td>109.44</td>\n",
       "      <td>255.0</td>\n",
       "      <td>47.029029</td>\n",
       "      <td>662.384208</td>\n",
       "      <td>-407.384208</td>\n",
       "      <td>-4.073842</td>\n",
       "      <td>0.000000</td>\n",
       "      <td>0.017012</td>\n",
       "      <td>0.197089</td>\n",
       "      <td>0.00000</td>\n",
       "    </tr>\n",
       "  </tbody>\n",
       "</table>\n",
       "</div>"
      ],
      "text/plain": [
       "             temp   prec         ij          Ep           L       lam  \\\n",
       "mese                                                                    \n",
       "Maggio      17.58   63.0   6.709930   99.060430  -36.060430 -0.360604   \n",
       "Giugno      39.33  116.0  15.971247  237.345250 -121.345250 -1.213452   \n",
       "Luglio      64.41  148.0  27.461809  409.764081 -261.764081 -2.617641   \n",
       "Agosto      88.74  205.0  38.436153  561.001469 -356.001469 -3.560015   \n",
       "Settembre  109.44  255.0  47.029029  662.384208 -407.384208 -4.073842   \n",
       "\n",
       "             alpha0    alpha1    alpha2   At [mm]  \n",
       "mese                                               \n",
       "Maggio     0.639396  0.697255  0.734968  63.93957  \n",
       "Giugno     0.000000  0.297170  0.451783   0.00000  \n",
       "Luglio     0.000000  0.072975  0.276423   0.00000  \n",
       "Agosto     0.000000  0.028438  0.219298   0.00000  \n",
       "Settembre  0.000000  0.017012  0.197089   0.00000  "
      ]
     },
     "execution_count": 25,
     "metadata": {},
     "output_type": "execute_result"
    }
   ],
   "source": [
    "U  = 100                      # [mm] capacità di campo\n",
    "At = spc['alpha0'] * U\n",
    "At\n",
    "spc['At [mm]'] = At\n",
    "spc"
   ]
  },
  {
   "cell_type": "code",
   "execution_count": 26,
   "metadata": {
    "extensions": {
     "jupyter_dashboards": {
      "version": 1,
      "views": {
       "grid_default": {
        "col": 8,
        "height": 13,
        "hidden": false,
        "row": 127,
        "width": 4
       },
       "report_default": {
        "hidden": false
       }
      }
     }
    }
   },
   "outputs": [
    {
     "data": {
      "text/plain": [
       "<matplotlib.axes._subplots.AxesSubplot at 0x2102a1fb358>"
      ]
     },
     "execution_count": 26,
     "metadata": {},
     "output_type": "execute_result"
    },
    {
     "data": {
      "image/png": "[encoded data removed]",
      "text/plain": [
       "<Figure size 432x288 with 1 Axes>"
      ]
     },
     "metadata": {},
     "output_type": "display_data"
    }
   ],
   "source": [
    "spc.plot(y='At [mm]', kind = 'bar', title = ' Volume di acqua effettivamente contenuto nel suolo' )"
   ]
  },
  {
   "cell_type": "code",
   "execution_count": 27,
   "metadata": {
    "extensions": {
     "jupyter_dashboards": {
      "version": 1,
      "views": {
       "grid_default": {
        "col": 0,
        "height": 8,
        "hidden": false,
        "row": 140,
        "width": 9
       },
       "report_default": {
        "hidden": false
       }
      }
     }
    }
   },
   "outputs": [
    {
     "data": {
      "text/html": [
       "<div>\n",
       "<style scoped>\n",
       "    .dataframe tbody tr th:only-of-type {\n",
       "        vertical-align: middle;\n",
       "    }\n",
       "\n",
       "    .dataframe tbody tr th {\n",
       "        vertical-align: top;\n",
       "    }\n",
       "\n",
       "    .dataframe thead th {\n",
       "        text-align: right;\n",
       "    }\n",
       "</style>\n",
       "<table border=\"1\" class=\"dataframe\">\n",
       "  <thead>\n",
       "    <tr style=\"text-align: right;\">\n",
       "      <th></th>\n",
       "      <th>temp</th>\n",
       "      <th>prec</th>\n",
       "      <th>ij</th>\n",
       "      <th>Ep</th>\n",
       "      <th>L</th>\n",
       "      <th>lam</th>\n",
       "      <th>alpha0</th>\n",
       "      <th>alpha1</th>\n",
       "      <th>alpha2</th>\n",
       "      <th>At [mm]</th>\n",
       "      <th>DA [mm]</th>\n",
       "    </tr>\n",
       "    <tr>\n",
       "      <th>mese</th>\n",
       "      <th></th>\n",
       "      <th></th>\n",
       "      <th></th>\n",
       "      <th></th>\n",
       "      <th></th>\n",
       "      <th></th>\n",
       "      <th></th>\n",
       "      <th></th>\n",
       "      <th></th>\n",
       "      <th></th>\n",
       "      <th></th>\n",
       "    </tr>\n",
       "  </thead>\n",
       "  <tbody>\n",
       "    <tr>\n",
       "      <th>Maggio</th>\n",
       "      <td>17.58</td>\n",
       "      <td>63.0</td>\n",
       "      <td>6.709930</td>\n",
       "      <td>99.060430</td>\n",
       "      <td>-36.060430</td>\n",
       "      <td>-0.360604</td>\n",
       "      <td>0.639396</td>\n",
       "      <td>0.697255</td>\n",
       "      <td>0.734968</td>\n",
       "      <td>63.93957</td>\n",
       "      <td>-36.06043</td>\n",
       "    </tr>\n",
       "    <tr>\n",
       "      <th>Giugno</th>\n",
       "      <td>39.33</td>\n",
       "      <td>116.0</td>\n",
       "      <td>15.971247</td>\n",
       "      <td>237.345250</td>\n",
       "      <td>-121.345250</td>\n",
       "      <td>-1.213452</td>\n",
       "      <td>0.000000</td>\n",
       "      <td>0.297170</td>\n",
       "      <td>0.451783</td>\n",
       "      <td>0.00000</td>\n",
       "      <td>-63.93957</td>\n",
       "    </tr>\n",
       "    <tr>\n",
       "      <th>Luglio</th>\n",
       "      <td>64.41</td>\n",
       "      <td>148.0</td>\n",
       "      <td>27.461809</td>\n",
       "      <td>409.764081</td>\n",
       "      <td>-261.764081</td>\n",
       "      <td>-2.617641</td>\n",
       "      <td>0.000000</td>\n",
       "      <td>0.072975</td>\n",
       "      <td>0.276423</td>\n",
       "      <td>0.00000</td>\n",
       "      <td>0.00000</td>\n",
       "    </tr>\n",
       "    <tr>\n",
       "      <th>Agosto</th>\n",
       "      <td>88.74</td>\n",
       "      <td>205.0</td>\n",
       "      <td>38.436153</td>\n",
       "      <td>561.001469</td>\n",
       "      <td>-356.001469</td>\n",
       "      <td>-3.560015</td>\n",
       "      <td>0.000000</td>\n",
       "      <td>0.028438</td>\n",
       "      <td>0.219298</td>\n",
       "      <td>0.00000</td>\n",
       "      <td>0.00000</td>\n",
       "    </tr>\n",
       "    <tr>\n",
       "      <th>Settembre</th>\n",
       "      <td>109.44</td>\n",
       "      <td>255.0</td>\n",
       "      <td>47.029029</td>\n",
       "      <td>662.384208</td>\n",
       "      <td>-407.384208</td>\n",
       "      <td>-4.073842</td>\n",
       "      <td>0.000000</td>\n",
       "      <td>0.017012</td>\n",
       "      <td>0.197089</td>\n",
       "      <td>0.00000</td>\n",
       "      <td>0.00000</td>\n",
       "    </tr>\n",
       "  </tbody>\n",
       "</table>\n",
       "</div>"
      ],
      "text/plain": [
       "             temp   prec         ij          Ep           L       lam  \\\n",
       "mese                                                                    \n",
       "Maggio      17.58   63.0   6.709930   99.060430  -36.060430 -0.360604   \n",
       "Giugno      39.33  116.0  15.971247  237.345250 -121.345250 -1.213452   \n",
       "Luglio      64.41  148.0  27.461809  409.764081 -261.764081 -2.617641   \n",
       "Agosto      88.74  205.0  38.436153  561.001469 -356.001469 -3.560015   \n",
       "Settembre  109.44  255.0  47.029029  662.384208 -407.384208 -4.073842   \n",
       "\n",
       "             alpha0    alpha1    alpha2   At [mm]   DA [mm]  \n",
       "mese                                                         \n",
       "Maggio     0.639396  0.697255  0.734968  63.93957 -36.06043  \n",
       "Giugno     0.000000  0.297170  0.451783   0.00000 -63.93957  \n",
       "Luglio     0.000000  0.072975  0.276423   0.00000   0.00000  \n",
       "Agosto     0.000000  0.028438  0.219298   0.00000   0.00000  \n",
       "Settembre  0.000000  0.017012  0.197089   0.00000   0.00000  "
      ]
     },
     "execution_count": 27,
     "metadata": {},
     "output_type": "execute_result"
    }
   ],
   "source": [
    "DA0 = At[0] - U\n",
    "DA1 = At[1] - At[0]\n",
    "DA2 = At[2] - At[1]\n",
    "DA3 = At[3] - At[2]\n",
    "DA4 = At[4] - At[3]\n",
    "DA = DA0,DA1,DA2,DA3,DA4\n",
    "DA\n",
    "spc['DA [mm]'] = DA\n",
    "spc"
   ]
  },
  {
   "cell_type": "code",
   "execution_count": 28,
   "metadata": {
    "extensions": {
     "jupyter_dashboards": {
      "version": 1,
      "views": {
       "grid_default": {
        "col": 0,
        "height": 13,
        "hidden": false,
        "row": 148,
        "width": 4
       },
       "report_default": {
        "hidden": false
       }
      }
     }
    }
   },
   "outputs": [
    {
     "data": {
      "text/plain": [
       "<matplotlib.axes._subplots.AxesSubplot at 0x2102a151320>"
      ]
     },
     "execution_count": 28,
     "metadata": {},
     "output_type": "execute_result"
    },
    {
     "data": {
      "image/png": "[encoded data removed]",
      "text/plain": [
       "<Figure size 432x288 with 1 Axes>"
      ]
     },
     "metadata": {},
     "output_type": "display_data"
    }
   ],
   "source": [
    "spc.plot(y= 'DA [mm]', kind = 'bar', title = ' Perdita di volume di acqua mensile dal terreno')"
   ]
  },
  {
   "cell_type": "code",
   "execution_count": 29,
   "metadata": {
    "extensions": {
     "jupyter_dashboards": {
      "version": 1,
      "views": {
       "grid_default": {
        "col": 4,
        "height": 7,
        "hidden": false,
        "row": 148,
        "width": 4
       },
       "report_default": {
        "hidden": false
       }
      }
     }
    }
   },
   "outputs": [
    {
     "data": {
      "text/html": [
       "<div>\n",
       "<style scoped>\n",
       "    .dataframe tbody tr th:only-of-type {\n",
       "        vertical-align: middle;\n",
       "    }\n",
       "\n",
       "    .dataframe tbody tr th {\n",
       "        vertical-align: top;\n",
       "    }\n",
       "\n",
       "    .dataframe thead th {\n",
       "        text-align: right;\n",
       "    }\n",
       "</style>\n",
       "<table border=\"1\" class=\"dataframe\">\n",
       "  <thead>\n",
       "    <tr style=\"text-align: right;\">\n",
       "      <th></th>\n",
       "      <th>temp</th>\n",
       "      <th>prec</th>\n",
       "      <th>ij</th>\n",
       "      <th>Ep</th>\n",
       "    </tr>\n",
       "    <tr>\n",
       "      <th>mese</th>\n",
       "      <th></th>\n",
       "      <th></th>\n",
       "      <th></th>\n",
       "      <th></th>\n",
       "    </tr>\n",
       "  </thead>\n",
       "  <tbody>\n",
       "    <tr>\n",
       "      <th>Giugno</th>\n",
       "      <td>21.75</td>\n",
       "      <td>53.0</td>\n",
       "      <td>9.261317</td>\n",
       "      <td>138.284820</td>\n",
       "    </tr>\n",
       "    <tr>\n",
       "      <th>Luglio</th>\n",
       "      <td>25.08</td>\n",
       "      <td>32.0</td>\n",
       "      <td>11.490563</td>\n",
       "      <td>172.418831</td>\n",
       "    </tr>\n",
       "    <tr>\n",
       "      <th>Agosto</th>\n",
       "      <td>24.33</td>\n",
       "      <td>57.0</td>\n",
       "      <td>10.974344</td>\n",
       "      <td>151.237388</td>\n",
       "    </tr>\n",
       "    <tr>\n",
       "      <th>Settembre</th>\n",
       "      <td>20.70</td>\n",
       "      <td>50.0</td>\n",
       "      <td>8.592875</td>\n",
       "      <td>101.382739</td>\n",
       "    </tr>\n",
       "  </tbody>\n",
       "</table>\n",
       "</div>"
      ],
      "text/plain": [
       "            temp  prec         ij          Ep\n",
       "mese                                         \n",
       "Giugno     21.75  53.0   9.261317  138.284820\n",
       "Luglio     25.08  32.0  11.490563  172.418831\n",
       "Agosto     24.33  57.0  10.974344  151.237388\n",
       "Settembre  20.70  50.0   8.592875  101.382739"
      ]
     },
     "execution_count": 29,
     "metadata": {},
     "output_type": "execute_result"
    }
   ],
   "source": [
    "secca = tab1.set_index('mese')\n",
    "secca[5:9]"
   ]
  },
  {
   "cell_type": "code",
   "execution_count": 30,
   "metadata": {
    "extensions": {
     "jupyter_dashboards": {
      "version": 1,
      "views": {
       "grid_default": {
        "col": 8,
        "height": 5,
        "hidden": false,
        "row": 148,
        "width": 4
       },
       "report_default": {
        "hidden": false
       }
      }
     }
    }
   },
   "outputs": [
    {
     "data": {
      "text/plain": [
       "mese\n",
       "Maggio        99.06043\n",
       "Giugno       116.93957\n",
       "Luglio        32.00000\n",
       "Agosto        57.00000\n",
       "Settembre     50.00000\n",
       "dtype: float64"
      ]
     },
     "execution_count": 30,
     "metadata": {},
     "output_type": "execute_result"
    }
   ],
   "source": [
    "DE = secca['prec'][4:9] - spc['DA [mm]']\n",
    "DE"
   ]
  },
  {
   "cell_type": "code",
   "execution_count": 31,
   "metadata": {
    "extensions": {
     "jupyter_dashboards": {
      "version": 1,
      "views": {
       "grid_default": {
        "col": 0,
        "height": 8,
        "hidden": false,
        "row": 161,
        "width": 9
       },
       "report_default": {
        "hidden": false
       }
      }
     }
    }
   },
   "outputs": [
    {
     "data": {
      "text/html": [
       "<div>\n",
       "<style scoped>\n",
       "    .dataframe tbody tr th:only-of-type {\n",
       "        vertical-align: middle;\n",
       "    }\n",
       "\n",
       "    .dataframe tbody tr th {\n",
       "        vertical-align: top;\n",
       "    }\n",
       "\n",
       "    .dataframe thead th {\n",
       "        text-align: right;\n",
       "    }\n",
       "</style>\n",
       "<table border=\"1\" class=\"dataframe\">\n",
       "  <thead>\n",
       "    <tr style=\"text-align: right;\">\n",
       "      <th></th>\n",
       "      <th>temp</th>\n",
       "      <th>prec</th>\n",
       "      <th>ij</th>\n",
       "      <th>Ep</th>\n",
       "      <th>L</th>\n",
       "      <th>lam</th>\n",
       "      <th>alpha0</th>\n",
       "      <th>alpha1</th>\n",
       "      <th>alpha2</th>\n",
       "      <th>At [mm]</th>\n",
       "      <th>DA [mm]</th>\n",
       "      <th>DE [mm]</th>\n",
       "    </tr>\n",
       "    <tr>\n",
       "      <th>mese</th>\n",
       "      <th></th>\n",
       "      <th></th>\n",
       "      <th></th>\n",
       "      <th></th>\n",
       "      <th></th>\n",
       "      <th></th>\n",
       "      <th></th>\n",
       "      <th></th>\n",
       "      <th></th>\n",
       "      <th></th>\n",
       "      <th></th>\n",
       "      <th></th>\n",
       "    </tr>\n",
       "  </thead>\n",
       "  <tbody>\n",
       "    <tr>\n",
       "      <th>Maggio</th>\n",
       "      <td>17.58</td>\n",
       "      <td>63.0</td>\n",
       "      <td>6.709930</td>\n",
       "      <td>99.060430</td>\n",
       "      <td>-36.060430</td>\n",
       "      <td>-0.360604</td>\n",
       "      <td>0.639396</td>\n",
       "      <td>0.697255</td>\n",
       "      <td>0.734968</td>\n",
       "      <td>63.93957</td>\n",
       "      <td>-36.06043</td>\n",
       "      <td>99.06043</td>\n",
       "    </tr>\n",
       "    <tr>\n",
       "      <th>Giugno</th>\n",
       "      <td>39.33</td>\n",
       "      <td>116.0</td>\n",
       "      <td>15.971247</td>\n",
       "      <td>237.345250</td>\n",
       "      <td>-121.345250</td>\n",
       "      <td>-1.213452</td>\n",
       "      <td>0.000000</td>\n",
       "      <td>0.297170</td>\n",
       "      <td>0.451783</td>\n",
       "      <td>0.00000</td>\n",
       "      <td>-63.93957</td>\n",
       "      <td>116.93957</td>\n",
       "    </tr>\n",
       "    <tr>\n",
       "      <th>Luglio</th>\n",
       "      <td>64.41</td>\n",
       "      <td>148.0</td>\n",
       "      <td>27.461809</td>\n",
       "      <td>409.764081</td>\n",
       "      <td>-261.764081</td>\n",
       "      <td>-2.617641</td>\n",
       "      <td>0.000000</td>\n",
       "      <td>0.072975</td>\n",
       "      <td>0.276423</td>\n",
       "      <td>0.00000</td>\n",
       "      <td>0.00000</td>\n",
       "      <td>32.00000</td>\n",
       "    </tr>\n",
       "    <tr>\n",
       "      <th>Agosto</th>\n",
       "      <td>88.74</td>\n",
       "      <td>205.0</td>\n",
       "      <td>38.436153</td>\n",
       "      <td>561.001469</td>\n",
       "      <td>-356.001469</td>\n",
       "      <td>-3.560015</td>\n",
       "      <td>0.000000</td>\n",
       "      <td>0.028438</td>\n",
       "      <td>0.219298</td>\n",
       "      <td>0.00000</td>\n",
       "      <td>0.00000</td>\n",
       "      <td>57.00000</td>\n",
       "    </tr>\n",
       "    <tr>\n",
       "      <th>Settembre</th>\n",
       "      <td>109.44</td>\n",
       "      <td>255.0</td>\n",
       "      <td>47.029029</td>\n",
       "      <td>662.384208</td>\n",
       "      <td>-407.384208</td>\n",
       "      <td>-4.073842</td>\n",
       "      <td>0.000000</td>\n",
       "      <td>0.017012</td>\n",
       "      <td>0.197089</td>\n",
       "      <td>0.00000</td>\n",
       "      <td>0.00000</td>\n",
       "      <td>50.00000</td>\n",
       "    </tr>\n",
       "  </tbody>\n",
       "</table>\n",
       "</div>"
      ],
      "text/plain": [
       "             temp   prec         ij          Ep           L       lam  \\\n",
       "mese                                                                    \n",
       "Maggio      17.58   63.0   6.709930   99.060430  -36.060430 -0.360604   \n",
       "Giugno      39.33  116.0  15.971247  237.345250 -121.345250 -1.213452   \n",
       "Luglio      64.41  148.0  27.461809  409.764081 -261.764081 -2.617641   \n",
       "Agosto      88.74  205.0  38.436153  561.001469 -356.001469 -3.560015   \n",
       "Settembre  109.44  255.0  47.029029  662.384208 -407.384208 -4.073842   \n",
       "\n",
       "             alpha0    alpha1    alpha2   At [mm]   DA [mm]    DE [mm]  \n",
       "mese                                                                    \n",
       "Maggio     0.639396  0.697255  0.734968  63.93957 -36.06043   99.06043  \n",
       "Giugno     0.000000  0.297170  0.451783   0.00000 -63.93957  116.93957  \n",
       "Luglio     0.000000  0.072975  0.276423   0.00000   0.00000   32.00000  \n",
       "Agosto     0.000000  0.028438  0.219298   0.00000   0.00000   57.00000  \n",
       "Settembre  0.000000  0.017012  0.197089   0.00000   0.00000   50.00000  "
      ]
     },
     "execution_count": 31,
     "metadata": {},
     "output_type": "execute_result"
    }
   ],
   "source": [
    "spc['DE [mm]'] = DE\n",
    "spc"
   ]
  },
  {
   "cell_type": "code",
   "execution_count": 35,
   "metadata": {
    "extensions": {
     "jupyter_dashboards": {
      "version": 1,
      "views": {
       "grid_default": {
        "col": 0,
        "height": 13,
        "hidden": false,
        "row": 169,
        "width": 4
       },
       "report_default": {
        "hidden": false
       }
      }
     }
    }
   },
   "outputs": [
    {
     "data": {
      "text/plain": [
       "<matplotlib.axes._subplots.AxesSubplot at 0x2102a1ca828>"
      ]
     },
     "execution_count": 35,
     "metadata": {},
     "output_type": "execute_result"
    },
    {
     "data": {
      "image/png": "[encoded data removed]",
      "text/plain": [
       "<Figure size 432x288 with 1 Axes>"
      ]
     },
     "metadata": {},
     "output_type": "display_data"
    }
   ],
   "source": [
    "spc.plot(y = 'DE [mm]', kind = 'bar', title = ' Perdita di acqua dovuta all\\' evapotraspirazione')"
   ]
  },
  {
   "cell_type": "code",
   "execution_count": 36,
   "metadata": {
    "extensions": {
     "jupyter_dashboards": {
      "version": 1,
      "views": {
       "grid_default": {
        "col": 8,
        "height": 5,
        "hidden": false,
        "row": 153,
        "width": 4
       },
       "report_default": {
        "hidden": false
       }
      }
     }
    }
   },
   "outputs": [
    {
     "data": {
      "text/plain": [
       "mese\n",
       "Maggio         0.000000\n",
       "Giugno        21.345250\n",
       "Luglio       140.418831\n",
       "Agosto        94.237388\n",
       "Settembre     51.382739\n",
       "dtype: float64"
      ]
     },
     "execution_count": 36,
     "metadata": {},
     "output_type": "execute_result"
    }
   ],
   "source": [
    "DD = secca['Ep'][4:9] - spc['DE [mm]']\n",
    "DD"
   ]
  },
  {
   "cell_type": "code",
   "execution_count": 37,
   "metadata": {
    "extensions": {
     "jupyter_dashboards": {
      "version": 1,
      "views": {
       "grid_default": {
        "hidden": true
       },
       "report_default": {
        "hidden": true
       }
      }
     }
    },
    "scrolled": true
   },
   "outputs": [],
   "source": [
    "spc['DD [mm]'] = DD\n",
    "spc\n",
    "writer = pd.ExcelWriter('tab1.xlsx')\n",
    "spc.to_excel(writer, 'Sheet1')\n",
    "writer.save()"
   ]
  },
  {
   "cell_type": "code",
   "execution_count": 38,
   "metadata": {
    "extensions": {
     "jupyter_dashboards": {
      "version": 1,
      "views": {
       "grid_default": {
        "col": 4,
        "height": 13,
        "hidden": false,
        "row": 169,
        "width": 4
       },
       "report_default": {
        "hidden": false
       }
      }
     }
    },
    "scrolled": false
   },
   "outputs": [
    {
     "name": "stdout",
     "output_type": "stream",
     "text": [
      "Il deficit totale annuo di precipitazione è pari a [mm]:  307.3842080818398\n"
     ]
    },
    {
     "data": {
      "image/png": "[encoded data removed]",
      "text/plain": [
       "<Figure size 432x288 with 1 Axes>"
      ]
     },
     "metadata": {},
     "output_type": "display_data"
    }
   ],
   "source": [
    "spc.plot(y = 'DD [mm]', kind = 'bar', title = ' Deficit mensile calcolato per la stagione secca')\n",
    "print ('Il deficit totale annuo di precipitazione è pari a [mm]: ', spc['DD [mm]'].sum())"
   ]
  },
  {
   "cell_type": "markdown",
   "metadata": {
    "extensions": {
     "jupyter_dashboards": {
      "version": 1,
      "views": {
       "grid_default": {
        "col": 4,
        "height": 4,
        "hidden": false,
        "row": 155,
        "width": 4
       },
       "report_default": {
        "hidden": false
       }
      }
     }
    }
   },
   "source": [
    "calcolo dei metri cubi di acqua occorrenti per diverse dimensioni dei bacini"
   ]
  },
  {
   "cell_type": "code",
   "execution_count": 39,
   "metadata": {
    "extensions": {
     "jupyter_dashboards": {
      "version": 1,
      "views": {
       "grid_default": {
        "col": 8,
        "height": 4,
        "hidden": false,
        "row": 169,
        "width": 4
       },
       "report_default": {
        "hidden": false
       }
      }
     }
    }
   },
   "outputs": [
    {
     "name": "stdout",
     "output_type": "stream",
     "text": [
      "Il deficit complessivo per unità di superficie in m:  0.30738\n"
     ]
    }
   ],
   "source": [
    "# determinazione dei metri cubi di acqua occorrenti per diversi bacini\n",
    "# conversione dell'altezza di pioggia\n",
    "DDtot = 307.38/1000         # [m]\n",
    "print ('Il deficit complessivo per unità di superficie in m: ', DDtot)"
   ]
  },
  {
   "cell_type": "code",
   "execution_count": 40,
   "metadata": {
    "extensions": {
     "jupyter_dashboards": {
      "version": 1,
      "views": {
       "grid_default": {
        "col": 8,
        "height": 4,
        "hidden": false,
        "row": 173,
        "width": 4
       },
       "report_default": {
        "hidden": false
       }
      }
     }
    }
   },
   "outputs": [
    {
     "name": "stdout",
     "output_type": "stream",
     "text": [
      "La estensione complessiva del bacino del torrente Parma è [m2]:  815000000\n"
     ]
    }
   ],
   "source": [
    "# BACINO 1 - bacino del torrente Parma - 815 km2\n",
    "S1 = 815*10**6      # [m2] di bacino del torrente Parma\n",
    "print ('La estensione complessiva del bacino del torrente Parma è [m2]: ', S1)"
   ]
  },
  {
   "cell_type": "code",
   "execution_count": 41,
   "metadata": {
    "extensions": {
     "jupyter_dashboards": {
      "version": 1,
      "views": {
       "grid_default": {
        "col": 8,
        "height": 4,
        "hidden": false,
        "row": 177,
        "width": 4
       },
       "report_default": {
        "hidden": false
       }
      }
     }
    }
   },
   "outputs": [
    {
     "name": "stdout",
     "output_type": "stream",
     "text": [
      "IL volume complessivo di acqua stimato per compensare il deficit nel bacino del torrente Parma è[m3]:  250514700.0\n"
     ]
    }
   ],
   "source": [
    "# deteminazione del volume d'acqua complessivo da introdurre per irrigazione nel bacino del torrente Parma - stima\n",
    "V = S1 * DDtot          # [m3] volume complessivo di acqua da introdurre con irrigazione per compensare il deficit\n",
    "print ('IL volume complessivo di acqua stimato per compensare il deficit nel bacino del torrente Parma è[m3]: ', V)"
   ]
  },
  {
   "cell_type": "markdown",
   "metadata": {
    "extensions": {
     "jupyter_dashboards": {
      "version": 1,
      "views": {
       "grid_default": {
        "col": 8,
        "height": 4,
        "hidden": false,
        "row": 181,
        "width": 4
       },
       "report_default": {
        "hidden": false
       }
      }
     }
    }
   },
   "source": [
    " + Indicativamente il bacino del torrente Parma nel periodo secco cha va da Maggio a Settembre necessità di 250 milioni di metri cubi di acqua."
   ]
  },
  {
   "cell_type": "markdown",
   "metadata": {
    "extensions": {
     "jupyter_dashboards": {
      "version": 1,
      "views": {
       "grid_default": {
        "col": 0,
        "height": 4,
        "hidden": false,
        "row": 182,
        "width": 4
       },
       "report_default": {
        "hidden": false
       }
      }
     }
    }
   },
   "source": [
    "- Attraverso l'IRRIGAZIONE è necessario introdurre 307 mm di acqua che rappresentano il deficit per unità di superficie calcolato in base ai dati raccolti dalla stazione termopluviometrica di Parma."
   ]
  },
  {
   "cell_type": "code",
   "execution_count": null,
   "metadata": {
    "extensions": {
     "jupyter_dashboards": {
      "version": 1,
      "views": {
       "grid_default": {
        "hidden": true
       },
       "report_default": {
        "hidden": true
       }
      }
     }
    }
   },
   "outputs": [],
   "source": []
  },
  {
   "cell_type": "code",
   "execution_count": null,
   "metadata": {
    "extensions": {
     "jupyter_dashboards": {
      "version": 1,
      "views": {
       "grid_default": {
        "hidden": true
       },
       "report_default": {
        "hidden": true
       }
      }
     }
    }
   },
   "outputs": [],
   "source": []
  }
 ],
 "metadata": {
  "extensions": {
   "jupyter_dashboards": {
    "activeView": "report_default",
    "version": 1,
    "views": {
     "grid_default": {
      "cellMargin": 10,
      "defaultCellHeight": 20,
      "maxColumns": 12,
      "name": "grid",
      "type": "grid"
     },
     "report_default": {
      "name": "report",
      "type": "report"
     }
    }
   }
  },
  "kernelspec": {
   "display_name": "Python 3",
   "language": "python",
   "name": "python3"
  },
  "language_info": {
   "codemirror_mode": {
    "name": "ipython",
    "version": 3
   },
   "file_extension": ".py",
   "mimetype": "text/x-python",
   "name": "python",
   "nbconvert_exporter": "python",
   "pygments_lexer": "ipython3",
   "version": "3.6.5"
  }
 },
 "nbformat": 4,
 "nbformat_minor": 2
}
